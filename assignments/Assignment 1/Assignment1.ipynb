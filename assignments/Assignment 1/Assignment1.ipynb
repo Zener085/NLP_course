{
 "cells": [
  {
   "cell_type": "markdown",
   "metadata": {
    "id": "RKboZnAdgrRM"
   },
   "source": [
    "# [NLP] Assignment 1: Tokenization\n",
    "\n",
    "In this assignment, you need to tokenize the text of the Twitter(X) users posts(tweets). The assignment consists of two tasks. When you finish all the tasks, create a GitHub repository for this assignment (you can use this repo later for the other assignments) and submit this notebook in the repository. Leave `requirements.txt` file if your code requires additional installations. Submit the link to the repository in Moodle.\n",
    "\n",
    "The [data](https://drive.google.com/file/d/15x_wPAflvYQ2Xh38iNQGrqUIWLj5l5Nw/view?usp=share_link) contains 5 files whereby each contains 44 tweets. Each tweet is separated by a newline."
   ]
  },
  {
   "cell_type": "markdown",
   "metadata": {
    "id": "aLDjjAvemUP_"
   },
   "source": [
    "## Task 1. Tokenize some tweets manually (20 points)\n",
    "\n",
    "As a first task you need to tokenize first 15 tweets from `file2` by hand. This will allow you to understand the problem from a linguistic point of view. The guidelines for tweet tokenization are as follows:\n",
    "\n",
    "- Each smiley is a separate token\n",
    "- Each hashtag is an individual token. Each user reference is an individual token\n",
    "- If a word has spaces between them then it is converted to a single token\n",
    "- All punctuations are individual tokens. This includes double-quotes and single quotes also\n",
    "- A URL is a single token\n",
    "\n",
    "Example of output\n",
    "\n",
    "    Input tweet\n",
    "    @xfranman Old age has made N A T O!\n",
    "\n",
    "    Tokenized tweet (separated by comma)\n",
    "    @xfranman , Old , age , has , made , NATO , !"
   ]
  },
  {
   "cell_type": "markdown",
   "metadata": {
    "id": "7KKKwTidnzUw"
   },
   "source": [
    "\n",
    "    1. Input tweet\n",
    "    ...\n",
    "    1. Tokenized tweet\n",
    "    ...\n",
    "\n",
    "    2. Input tweet\n",
    "    ...\n",
    "    2. Tokenized tweet\n",
    "    ..."
   ]
  },
  {
   "cell_type": "code",
   "outputs": [],
   "source": [
    "import regex\n",
    "import matplotlib.pyplot as plt"
   ],
   "metadata": {
    "collapsed": false,
    "ExecuteTime": {
     "end_time": "2024-02-13T02:08:00.615293900Z",
     "start_time": "2024-02-13T02:07:59.706561300Z"
    }
   },
   "execution_count": 1
  },
  {
   "cell_type": "code",
   "outputs": [
    {
     "ename": "UnicodeDecodeError",
     "evalue": "'charmap' codec can't decode byte 0x81 in position 2314: character maps to <undefined>",
     "output_type": "error",
     "traceback": [
      "\u001B[1;31m---------------------------------------------------------------------------\u001B[0m",
      "\u001B[1;31mUnicodeDecodeError\u001B[0m                        Traceback (most recent call last)",
      "Cell \u001B[1;32mIn[3], line 9\u001B[0m\n\u001B[0;32m      6\u001B[0m         file\u001B[38;5;241m.\u001B[39mextend(line\u001B[38;5;241m.\u001B[39msplit(\u001B[38;5;124m\"\u001B[39m\u001B[38;5;130;01m\\n\u001B[39;00m\u001B[38;5;124m\"\u001B[39m))\n\u001B[0;32m      7\u001B[0m     \u001B[38;5;28;01mreturn\u001B[39;00m file[::\u001B[38;5;241m2\u001B[39m]\n\u001B[1;32m----> 9\u001B[0m files \u001B[38;5;241m=\u001B[39m [extract_text(\u001B[38;5;124mf\u001B[39m\u001B[38;5;124m\"\u001B[39m\u001B[38;5;124mfile\u001B[39m\u001B[38;5;132;01m{\u001B[39;00mi\u001B[38;5;132;01m}\u001B[39;00m\u001B[38;5;124m\"\u001B[39m) \u001B[38;5;28;01mfor\u001B[39;00m i \u001B[38;5;129;01min\u001B[39;00m \u001B[38;5;28mrange\u001B[39m(\u001B[38;5;241m1\u001B[39m, \u001B[38;5;241m6\u001B[39m)]\n\u001B[0;32m     10\u001B[0m \u001B[38;5;28mprint\u001B[39m(files[\u001B[38;5;241m1\u001B[39m][:\u001B[38;5;241m15\u001B[39m])\n",
      "Cell \u001B[1;32mIn[3], line 9\u001B[0m, in \u001B[0;36m<listcomp>\u001B[1;34m(.0)\u001B[0m\n\u001B[0;32m      6\u001B[0m         file\u001B[38;5;241m.\u001B[39mextend(line\u001B[38;5;241m.\u001B[39msplit(\u001B[38;5;124m\"\u001B[39m\u001B[38;5;130;01m\\n\u001B[39;00m\u001B[38;5;124m\"\u001B[39m))\n\u001B[0;32m      7\u001B[0m     \u001B[38;5;28;01mreturn\u001B[39;00m file[::\u001B[38;5;241m2\u001B[39m]\n\u001B[1;32m----> 9\u001B[0m files \u001B[38;5;241m=\u001B[39m [extract_text(\u001B[38;5;124mf\u001B[39m\u001B[38;5;124m\"\u001B[39m\u001B[38;5;124mfile\u001B[39m\u001B[38;5;132;01m{\u001B[39;00mi\u001B[38;5;132;01m}\u001B[39;00m\u001B[38;5;124m\"\u001B[39m) \u001B[38;5;28;01mfor\u001B[39;00m i \u001B[38;5;129;01min\u001B[39;00m \u001B[38;5;28mrange\u001B[39m(\u001B[38;5;241m1\u001B[39m, \u001B[38;5;241m6\u001B[39m)]\n\u001B[0;32m     10\u001B[0m \u001B[38;5;28mprint\u001B[39m(files[\u001B[38;5;241m1\u001B[39m][:\u001B[38;5;241m15\u001B[39m])\n",
      "Cell \u001B[1;32mIn[3], line 3\u001B[0m, in \u001B[0;36mextract_text\u001B[1;34m(__file_name)\u001B[0m\n\u001B[0;32m      1\u001B[0m \u001B[38;5;28;01mdef\u001B[39;00m \u001B[38;5;21mextract_text\u001B[39m(__file_name: \u001B[38;5;28mstr\u001B[39m):\n\u001B[0;32m      2\u001B[0m     \u001B[38;5;28;01mwith\u001B[39;00m \u001B[38;5;28mopen\u001B[39m(\u001B[38;5;124mf\u001B[39m\u001B[38;5;124m\"\u001B[39m\u001B[38;5;124mdata/\u001B[39m\u001B[38;5;132;01m{\u001B[39;00m__file_name\u001B[38;5;132;01m}\u001B[39;00m\u001B[38;5;124m.txt\u001B[39m\u001B[38;5;124m\"\u001B[39m, \u001B[38;5;124m\"\u001B[39m\u001B[38;5;124mr\u001B[39m\u001B[38;5;124m\"\u001B[39m) \u001B[38;5;28;01mas\u001B[39;00m f:\n\u001B[1;32m----> 3\u001B[0m         text \u001B[38;5;241m=\u001B[39m f\u001B[38;5;241m.\u001B[39mreadlines()\n\u001B[0;32m      4\u001B[0m     file \u001B[38;5;241m=\u001B[39m []\n\u001B[0;32m      5\u001B[0m     \u001B[38;5;28;01mfor\u001B[39;00m line \u001B[38;5;129;01min\u001B[39;00m text:\n",
      "File \u001B[1;32m~\\anaconda3\\envs\\DS\\Lib\\encodings\\cp1252.py:23\u001B[0m, in \u001B[0;36mIncrementalDecoder.decode\u001B[1;34m(self, input, final)\u001B[0m\n\u001B[0;32m     22\u001B[0m \u001B[38;5;28;01mdef\u001B[39;00m \u001B[38;5;21mdecode\u001B[39m(\u001B[38;5;28mself\u001B[39m, \u001B[38;5;28minput\u001B[39m, final\u001B[38;5;241m=\u001B[39m\u001B[38;5;28;01mFalse\u001B[39;00m):\n\u001B[1;32m---> 23\u001B[0m     \u001B[38;5;28;01mreturn\u001B[39;00m codecs\u001B[38;5;241m.\u001B[39mcharmap_decode(\u001B[38;5;28minput\u001B[39m,\u001B[38;5;28mself\u001B[39m\u001B[38;5;241m.\u001B[39merrors,decoding_table)[\u001B[38;5;241m0\u001B[39m]\n",
      "\u001B[1;31mUnicodeDecodeError\u001B[0m: 'charmap' codec can't decode byte 0x81 in position 2314: character maps to <undefined>"
     ]
    }
   ],
   "source": [
    "def extract_text(__file_name: str):\n",
    "    with open(f\"data/{__file_name}.txt\", \"r\") as f:\n",
    "        text = f.readlines()\n",
    "    file = []\n",
    "    for line in text:\n",
    "        file.extend(line.split(\"\\n\"))\n",
    "    return file[::2]\n",
    "\n",
    "files = [extract_text(f\"file{i}\") for i in range(1, 6)]\n",
    "print(files[1][:15])"
   ],
   "metadata": {
    "collapsed": false,
    "ExecuteTime": {
     "end_time": "2024-02-13T02:08:08.805513200Z",
     "start_time": "2024-02-13T02:08:08.742330400Z"
    }
   },
   "execution_count": 3
  },
  {
   "cell_type": "code",
   "outputs": [],
   "source": [
    "output = \"\"\"\n",
    "1. Input tweet\n",
    "Camping in Maine for the weekend. Hey Dad, Mama Loves YOU: http://www.mamapalooza.com\n",
    "1. Tokenized tweet\n",
    "Camping, in, Maine, for, the, weekend, ., Hey, Dad, ,, Mama, Loves, YOU, :, http://www.mamapalooza.com\n",
    "2. Input tweet\n",
    "Its american tradition bitch\n",
    "2. Tokenized tweet\n",
    "Its, american, tradition, bitch\n",
    "3. Input tweet\n",
    "@ThroughTheVoid They love it! The only pleasure they get in life. I actually do that. I'm sure I hear a tiny squeak... Then louder ones\n",
    "3. Tokenized tweet\n",
    "@ThroughTheVoid, They, love, it, !, The, only, pleasure, they, get, in, life, ., I, actually, do, that, ., I, ', m, sure, I, hear, a, tiny, squeak, ., ., ., Then, louder, ones\n",
    "4. Input tweet\n",
    "\" RT @latti: @AbsoHilare stop tweeting in church! Lol <--- \"\"I tweet because I'm happy, I tweet because I'm free\"\" LOL!\"\n",
    "4. Tokenized tweet\n",
    "\", RT, @latti, :, @AbsoHilare, stop, tweeting, in, church, !, Lol, <, -, -, -, \", \", I, tweet, because, I, ', m, happy, ,, I, tweet, because, I, ', m, free, \", \", LOL, !, \"\n",
    "5. Input tweet\n",
    "Samsung Mini S2 portable HDD graced with colors that perfectly match your tacky beach gear: Sammy's done it aga.. http://tinyurl.com/lb5p6m\n",
    "5. Tokenized tweet\n",
    "Samsung, Mini, S2, portable, HDD, graced, with, colors, that, perfectly, match, your, tacky, beach, gear, :, Sammy, ', s, done, it, aga, .., http://tinyurl.com/lb5p6m\n",
    "6. Input tweet\n",
    "@dialloc congrats on finding your way over. it may be slow going at first. hang in there. it's kinda cool when u get up to speed.\n",
    "6. Tokenized tweet\n",
    "@dialloc, congrats, on, finding, your, way, over, ., it, may, be, slow, going, at, first, ., hang, in, there, ., it, ', s, kinda, cool, when, u, get, up, to, speed, .\n",
    "7. Input tweet\n",
    "iPhone activation delays continue, Apple offers $30 http://twt.gs/l3Ki\n",
    "7. Tokenized tweet\n",
    "iPhone, activation, delays, continue, ,, Apple, offers, $, 30, http://twt.gs/l3Ki\n",
    "8. Input tweet\n",
    "RT @GoogleAtWork Gmail maximum attachment size now 25MB http://bit.ly/62mjw Nice!!!\n",
    "8. Tokenized tweet\n",
    "RT, @GoogleAtWork, Gmail, maximum, attachment, size, now, 25MB, http://bit.ly/62mjw, Nice, !, !, !\n",
    "9. Input tweet\n",
    "RT @acfou The Ads Won Awards for Crispin; But Did Nothing for Client BurgerKing's Sales/Marketshare - Big Surprise - http://ping.fm/vw8TI\n",
    "9. Tokenized tweet\n",
    "RT, @acfou, The, Ads, Won, Awards, for, Crispin, ;, But, Did, Nothing, for, Client, BurgerKing, ', s, Sales, /, Marketshare, -, Big, Surprise, -, http://ping.fm/vw8TI\n",
    "10. Input tweet\n",
    "Hey doll! Great I missed True Blood yday boo lol Rt @FrankBanuat78 @jhillstephens Hello Sunshine how are u today? :-)\n",
    "10. Tokenized tweet\n",
    "Hey, doll, !, Great, I, missed, True, Blood, yday, boo, lol, Rt, @FrankBanuat78, @jhillstephens, Hello, Sunshine, how, are, u, today, ?, :-)\n",
    "11. Input tweet\n",
    "Australian artist Pogo made these free songs primarily from sampled audio from Alice In Wonderland. http://www.last.fm/music/Pogo/Wonderland\n",
    "11. Tokenized tweet\n",
    "Australian, artist, Pogo, made, these, free, songs, primarily, from, sampled, audio, from, Alice, In, Wonderland, ., http://www.last.fm/music/Pogo/Wonderland\n",
    "12. Input tweet\n",
    "@mppritchard they wanted to sell all the preorders & then sell all of the ones they had in stock to those that just walked in. Can't do both\n",
    "12. Tokenized tweet\n",
    "@mppritchard, they, wanted, to, sell, all, the, preorders, &, then, sell, all, of, the, ones, they, had, in, stock, to, those, that, just, walked, in, ., Can, ', t, do, both\n",
    "13. Input tweet\n",
    "Incoming: Frightened Rabbit, Sept. 22 (Tucson): If Fat Cat Records is going to send three great bands from Scot.. http://tinyurl.com/nz6xcv\n",
    "13. Tokenized tweet\n",
    "Incoming, :, Frightened, Rabbit, ,, Sept, ., 22, (, Tucson, ), :, If, Fat, Cat, Records, is, going, to, send, three, great, bands, from, Scot, .., http://tinyurl.com/nz6xcv\n",
    "14. Input tweet\n",
    "Hey @ginoandfran please greet philip! (GinoandFran live > http://ustre.am/2YyQ)\n",
    "14. Tokenized tweet\n",
    "Hey, @ginoandfran, please, greet, philip, !, (, GinoandFran, live, >, http://ustre.am/2YyQ, )\n",
    "15. Input tweet\n",
    "Ik weet niet wie er achter de T-Mobile iPhone Twitter zit maar ik vind het niet echt 'corporate' taalgebruik... Best vreemd eigenlijk\n",
    "15. Tokenized tweet\n",
    "Ik, weet, niet, wie, er, achter, de, T, -, Mobile, iPhone, Twitter, zit, maar, ik, vind, het, niet, echt, ', corporate, ', taalgebruik, ., ., ., Best, vreemd, eigenlijk\n",
    "\"\"\""
   ],
   "metadata": {
    "collapsed": false,
    "ExecuteTime": {
     "start_time": "2024-02-13T01:47:20.549782Z"
    }
   },
   "execution_count": null
  },
  {
   "cell_type": "markdown",
   "source": [
    "The First time I thought I had to create a regex system that would complete the task.\n",
    "But after understanding and finishing the task by hands, I still don't want to delete this piece of my creature.\n",
    "So I'd kindly ask you to just skip the code below up to the next task\n",
    "and don't decrease points for this task just because I also have something not related fully to the current one."
   ],
   "metadata": {
    "collapsed": false
   }
  },
  {
   "cell_type": "code",
   "outputs": [],
   "source": [
    "EMOTICONS = r\"\"\"\n",
    "    (?:\n",
    "      [<>]?\n",
    "      [:;=8]                     # eyes\n",
    "      [\\-o\\*\\']?                 # optional nose\n",
    "      [\\)\\]\\(\\[dDpP/\\:\\}\\{@\\|\\\\] # mouth\n",
    "      |\n",
    "      [\\)\\]\\(\\[dDpP/\\:\\}\\{@\\|\\\\] # mouth\n",
    "      [\\-o\\*\\']?                 # optional nose\n",
    "      [:;=8]                     # eyes\n",
    "      [<>]?\n",
    "      |\n",
    "      </?3                       # heart\n",
    "    )\"\"\"\n",
    "\n",
    "URLS = r\"\"\"\t\t\t# Capture 1: entire matched URL\n",
    "  (?:\n",
    "  https?:\t\t\t\t# URL protocol and colon\n",
    "    (?:\n",
    "      /{1,3}\t\t\t\t# 1-3 slashes\n",
    "      |\t\t\t\t\t#   or\n",
    "      [a-z0-9%]\t\t\t\t# Single letter or digit or '%'\n",
    "                                       # (Trying not to match e.g. \"URI::Escape\")\n",
    "    )\n",
    "    |\t\t\t\t\t#   or\n",
    "                                       # looks like domain name followed by a slash:\n",
    "    [a-z0-9.\\-]+[.]\n",
    "    (?:[a-z]{2,13})\n",
    "    /\n",
    "  )\n",
    "  (?:\t\t\t\t\t# One or more:\n",
    "    [^\\s()<>{}\\[\\]]+\t\t\t# Run of non-space, non-()<>{}[]\n",
    "    |\t\t\t\t\t#   or\n",
    "    \\([^\\s()]*?\\([^\\s()]+\\)[^\\s()]*?\\) # balanced parens, one level deep: (...(...)...)\n",
    "    |\n",
    "    \\([^\\s]+?\\)\t\t\t\t# balanced parens, non-recursive: (...)\n",
    "  )+\n",
    "  (?:\t\t\t\t\t# End with:\n",
    "    \\([^\\s()]*?\\([^\\s()]+\\)[^\\s()]*?\\) # balanced parens, one level deep: (...(...)...)\n",
    "    |\n",
    "    \\([^\\s]+?\\)\t\t\t\t# balanced parens, non-recursive: (...)\n",
    "    |\t\t\t\t\t#   or\n",
    "    [^\\s`!()\\[\\]{};:'\".,<>?«»“”‘’]\t# not a space or one of these punct chars\n",
    "  )\n",
    "  |\t\t\t\t\t# OR, the following to match naked domains:\n",
    "  (?:\n",
    "  \t(?<!@)\t\t\t        # not preceded by a @, avoid matching foo@_gmail.com_\n",
    "    [a-z0-9]+\n",
    "    (?:[.\\-][a-z0-9]+)*\n",
    "    [.]\n",
    "    (?:[a-z]{2,13})\n",
    "    \\b\n",
    "    /?\n",
    "    (?!@)\t\t\t        # not succeeded by a @,\n",
    "                            # avoid matching \"foo.na\" in \"foo.na@example.com\"\n",
    "  )\n",
    "\"\"\"\n",
    "\n",
    "FLAGS = r\"\"\"\n",
    "  (?:\n",
    "    [\\U0001F1E6-\\U0001F1FF]{2}  # all enclosed letter pairs\n",
    "    |\n",
    "    # English flag\n",
    "    \\U0001F3F4\\U000E0067\\U000E0062\\U000E0065\\U000E006e\\U000E0067\\U000E007F\n",
    "    |\n",
    "    # Scottish flag\n",
    "    \\U0001F3F4\\U000E0067\\U000E0062\\U000E0073\\U000E0063\\U000E0074\\U000E007F\n",
    "    |\n",
    "    # For Wales? Why Richard, it profit a man nothing to give his soul for the whole world … but for Wales!\n",
    "    \\U0001F3F4\\U000E0067\\U000E0062\\U000E0077\\U000E006C\\U000E0073\\U000E007F\n",
    "  )\n",
    "\"\"\"\n",
    "\n",
    "REGEXPS = (\n",
    "    URLS,\n",
    "    EMOTICONS,\n",
    "    # HTML tags:\n",
    "    r\"\"\"<[^>\\s]+>\"\"\",\n",
    "    # ASCII Arrows\n",
    "    r\"\"\"[\\-]+>|<[\\-]+\"\"\",\n",
    "    # Twitter username:\n",
    "    r\"\"\"(?:@[\\w_]+)\"\"\",\n",
    "    # Twitter hashtags:\n",
    "    r\"\"\"(?:\\#+[\\w_]+[\\w\\'_\\-]*[\\w_]+)\"\"\",\n",
    "    # Zero-Width-Joiner and Skin tone modifier emojis\n",
    "    \"\"\".(?:\n",
    "        [\\U0001F3FB-\\U0001F3FF]?(?:\\u200d.[\\U0001F3FB-\\U0001F3FF]?)+\n",
    "        |\n",
    "        [\\U0001F3FB-\\U0001F3FF]\n",
    "    )\"\"\",\n",
    "    # flags\n",
    "    FLAGS,\n",
    "    # Remaining word types:\n",
    "    r\"\"\"\n",
    "    (?:[^\\W\\d_](?:[^\\W\\d_]|['\\-_])+[^\\W\\d_]) # Words with apostrophes or dashes.\n",
    "    |\n",
    "    (?:[+\\-]?\\d+[,/.:-]\\d+[+\\-]?)  # Numbers, including fractions, decimals.\n",
    "    |\n",
    "    (?:[\\w_]+)                     # Words without apostrophes or dashes.\n",
    "    |\n",
    "    (?:\\.(?:\\s*\\.){1,})            # Ellipsis dots.\n",
    "    |\n",
    "    (?:\\S)                         # Everything else that isn't whitespace.\n",
    "    \"\"\",\n",
    ")"
   ],
   "metadata": {
    "collapsed": false,
    "ExecuteTime": {
     "start_time": "2024-02-13T01:47:20.552767700Z"
    }
   },
   "execution_count": null
  },
  {
   "cell_type": "code",
   "outputs": [],
   "source": [
    "def tokenize_tweet(__tweet: str):\n",
    "    tokenizer = regex.compile(f\"({'|'.join(REGEXPS)})\", regex.VERBOSE | regex.I | regex.UNICODE)\n",
    "    words = tokenizer.findall(__tweet)\n",
    "\n",
    "    return words"
   ],
   "metadata": {
    "collapsed": false,
    "ExecuteTime": {
     "start_time": "2024-02-13T01:47:20.555769Z"
    }
   },
   "execution_count": null
  },
  {
   "cell_type": "markdown",
   "source": [
    "This is how it worked."
   ],
   "metadata": {
    "collapsed": false
   }
  },
  {
   "cell_type": "code",
   "outputs": [],
   "source": [
    "for i, tweet in enumerate(files[1][:15], 1):\n",
    "    print(f\"{i}. Input tweet\\n{tweet}\")\n",
    "    tokens = tokenize_tweet(tweet)\n",
    "    print(f\"{i}. Tokenized tweet\\n{', '.join(tokens)}\")"
   ],
   "metadata": {
    "collapsed": false,
    "ExecuteTime": {
     "start_time": "2024-02-13T01:47:20.559768700Z"
    }
   },
   "execution_count": null
  },
  {
   "cell_type": "markdown",
   "source": [
    "It can't find any separated words such as `N A T O`. But still it shows a nice result as I see."
   ],
   "metadata": {
    "collapsed": false
   }
  },
  {
   "cell_type": "markdown",
   "metadata": {
    "id": "-2J2AD2nmUhi"
   },
   "source": [
    "## Task 2. Implement [Byte-Pair Encoding(BPE)](https://arxiv.org/pdf/1508.07909.pdf) Tokenizer (80 points)\n",
    "\n",
    "### Task 2.1. Implementation (60 points)\n",
    "\n",
    "Implement the tokenizer as the BPETokenizer class:\n",
    "* Implement `train` method that learns merges and builds the vocabulary of the specified `vocab_size` (25 points).\n",
    "* Implement `tokenize` method that should tokenize the text according to the learnt merges (25 points).\n",
    "\n",
    "Your code should have docstrings and comments (10 points)."
   ]
  },
  {
   "cell_type": "code",
   "execution_count": null,
   "metadata": {
    "ExecuteTime": {
     "end_time": "2024-02-13T01:47:20.583770300Z",
     "start_time": "2024-02-13T01:47:20.563769600Z"
    }
   },
   "outputs": [],
   "source": [
    "from typing import List, Tuple\n",
    "\n",
    "class BPETokenizer:\n",
    "    def __init__(self, vocab_size: int):\n",
    "        \"\"\"\n",
    "        Byte-Pair Encoding Tokenizer.\n",
    "        \n",
    "        Parameters:\n",
    "             vocab_size: size of the vocab that will be used to tokenize given data.\n",
    "        \"\"\"\n",
    "        self.vocab_size = vocab_size\n",
    "        self.vocab = None\n",
    "\n",
    "    def train(self, __corpus: List[str]):\n",
    "        \"\"\"\n",
    "        Trains the Tokenizer.\n",
    "        Updates vocab for the tokenizer.\n",
    "        \n",
    "        Parameters:\n",
    "            __corpus: A text data to train.\n",
    "        \"\"\"\n",
    "        _text = \"\".join(__corpus)        \n",
    "        self.vocab = set(_text)\n",
    "        \n",
    "        while len(self.vocab) < self.vocab_size:\n",
    "            _pairs = self.get_stats(_text)\n",
    "            if not _pairs:\n",
    "                break\n",
    "            \n",
    "            _best_pair = max(_pairs, key=_pairs.get)\n",
    "            _text = self.merge_pair(_text, _best_pair)\n",
    "            \n",
    "            self.vocab.add(_best_pair)\n",
    "    \n",
    "    @staticmethod\n",
    "    def get_stats(__text: str) -> dict:\n",
    "        \"\"\"\n",
    "        Finds pairs of characters that can be stored in the vocab.\n",
    "        \n",
    "        Parameters:\n",
    "            __text: A given text where to find pairs.\n",
    "        \n",
    "        Returns:\n",
    "            A dictionary with pairs of characters and numbers of occurrences of every pair.\n",
    "        \"\"\"\n",
    "        _pairs = {}\n",
    "        _prev_char = __text[0]\n",
    "        for _char in __text[1:]:\n",
    "            _pair = (_prev_char, _char)\n",
    "            _pairs[_pair] = _pairs.get(_pair, 0) + 1\n",
    "            _prev_char = _char\n",
    "        return _pairs\n",
    "\n",
    "    @staticmethod\n",
    "    def merge_pair(__text: str, __pair: Tuple) -> str:\n",
    "        \"\"\"\n",
    "        Adds a new pair of characters to the text.\n",
    "        \n",
    "        Parameters:\n",
    "            __text: A text where to replace new pair.\n",
    "            __pair: A given pair.\n",
    "        \n",
    "        Returns:\n",
    "             A new text with replaces all characters to its new pair. \n",
    "        \"\"\"\n",
    "        _merged_pair = \"\".join(__pair)\n",
    "        return __text.replace(_merged_pair, \"\".join(__pair))\n",
    "\n",
    "    def tokenize(self, __text: str) -> List[str]:\n",
    "        \"\"\"\n",
    "        Tokenizes the text.\n",
    "\n",
    "        Parameters:\n",
    "            __text: A text to tokenize.\n",
    "        \n",
    "        Returns:\n",
    "            Tokens of the text.\n",
    "        \"\"\"\n",
    "        if not self.vocab:\n",
    "            raise ValueError(\"Tokenizer has not been trained. Call the train method first.\")\n",
    "        \n",
    "        _tokens = []\n",
    "        while __text:\n",
    "            _prefix = max((_word for _word in self.vocab if __text.startswith(_word)), key=len)\n",
    "            \n",
    "            _tokens.append(_prefix)\n",
    "            __text = __text[len(_prefix):]\n",
    "        \n",
    "        return _tokens"
   ]
  },
  {
   "cell_type": "markdown",
   "source": [
    "### Task 2.2. Analysis on Tweets Dataset (10 points)\n",
    "\n",
    "Train the BPE tokenizer on the tweets dataset. Try to tokenize the tweets with the tokenizer of different `vocab_size`. For example, train the BPE tokenizer with `vocab_size` of [base_vocab_size, 250, 500, 750, 1000]. Plot the dependency of the average length of the tokenized tweet by `vocab_size` to analyze how `vocab_size` affects the length of the tokenized tweet on average. Tell what `vocab_size` is preferrable and why."
   ],
   "metadata": {
    "collapsed": false
   }
  },
  {
   "cell_type": "code",
   "outputs": [],
   "source": [
    "tweets = []\n",
    "for file in files:\n",
    "    tweets.extend(file)"
   ],
   "metadata": {
    "collapsed": false,
    "ExecuteTime": {
     "start_time": "2024-02-13T01:47:20.566770500Z"
    }
   }
  },
  {
   "cell_type": "code",
   "outputs": [],
   "source": [
    "def plot_tokenization_length_dependency(__tweets: List[str], __vocab_sizes: List[int]):\n",
    "    _avg_lengths = []\n",
    "\n",
    "    for _vocab_size in __vocab_sizes:\n",
    "        _tokenizer = BPETokenizer(vocab_size=_vocab_size)\n",
    "        _tokenizer.train(__tweets)\n",
    "\n",
    "        _tokenized_tweets = [_tokenizer.tokenize(_tweet) for _tweet in __tweets]\n",
    "\n",
    "        _avg_length = sum(len(_tokens) for _tokens in _tokenized_tweets) / len(_tokenized_tweets)\n",
    "        _avg_lengths.append(_avg_length)\n",
    "\n",
    "    plt.plot(__vocab_sizes, _avg_lengths, marker=\"o\")\n",
    "    plt.title(\"Dependency of Average Tokenized Tweet Length on Vocab Size\")\n",
    "    plt.xlabel(\"Vocab Size\")\n",
    "    plt.ylabel(\"Average Tokenized Tweet Length\")\n",
    "    plt.show()"
   ],
   "metadata": {
    "collapsed": false,
    "ExecuteTime": {
     "start_time": "2024-02-13T01:47:20.568770300Z"
    }
   }
  },
  {
   "cell_type": "code",
   "outputs": [],
   "source": [
    "vocab_sizes_to_test = [100, 250, 500, 750, 1000]\n",
    "\n",
    "plot_tokenization_length_dependency(tweets, vocab_sizes_to_test)"
   ],
   "metadata": {
    "collapsed": false,
    "ExecuteTime": {
     "start_time": "2024-02-13T01:47:20.569770400Z"
    }
   }
  },
  {
   "cell_type": "markdown",
   "source": [
    "### Task 2.3. Analysis on Dataset of Different Language (10 points)\n",
    "\n",
    "Find a small dataset of texts in a language other than English. The dataset size should be not greater than several megabytes.\n",
    "\n",
    "Train the BPE tokenizer on the dataset that you found. Try to tokenize the sentences from this dataset with the tokenizer of different `vocab_size`. Plot the dependency of the average length of the tokenized sentence by `vocab_size` to analyze how `vocab_size` affects the length of the tokenized sentence on average.\n",
    "\n",
    "Tell how how the average length of the tokenized sentence differs from the average length of the tokenized tweet. Explain why. "
   ],
   "metadata": {
    "collapsed": false
   }
  },
  {
   "cell_type": "code",
   "outputs": [],
   "source": [],
   "metadata": {
    "collapsed": false,
    "ExecuteTime": {
     "start_time": "2024-02-13T01:47:20.571769900Z"
    }
   }
  }
 ],
 "metadata": {
  "colab": {
   "provenance": [],
   "toc_visible": true
  },
  "kernelspec": {
   "name": "python3",
   "language": "python",
   "display_name": "Python 3 (ipykernel)"
  },
  "language_info": {
   "name": "python"
  }
 },
 "nbformat": 4,
 "nbformat_minor": 0
}
