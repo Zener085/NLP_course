{
 "cells": [
  {
   "cell_type": "markdown",
   "source": [
    "## Competition\n",
    "\n",
    "[Competition](https://www.kaggle.com/t/b2a5dce8f98c413da4a03db11577fe6c)"
   ],
   "metadata": {
    "collapsed": false
   },
   "id": "f418d65ddb08d922"
  },
  {
   "cell_type": "code",
   "outputs": [],
   "source": [
    "import warnings\n",
    "warnings.filterwarnings(\"ignore\")"
   ],
   "metadata": {
    "collapsed": false,
    "ExecuteTime": {
     "end_time": "2024-02-24T13:02:19.087133500Z",
     "start_time": "2024-02-24T13:02:19.084126200Z"
    }
   },
   "id": "b3a3989b686c8a2c",
   "execution_count": 1
  },
  {
   "cell_type": "code",
   "execution_count": 2,
   "id": "initial_id",
   "metadata": {
    "collapsed": true,
    "ExecuteTime": {
     "end_time": "2024-02-24T13:02:19.115923700Z",
     "start_time": "2024-02-24T13:02:19.090405200Z"
    }
   },
   "outputs": [],
   "source": [
    "import matplotlib.pyplot as plt\n",
    "import seaborn as sns\n",
    "import pandas as pd\n",
    "\n",
    "SEED = 42"
   ]
  },
  {
   "cell_type": "code",
   "outputs": [
    {
     "data": {
      "text/plain": "0    they hope the president elect stands up to his...\n1    it's the latest in a string of test launches o...\n2    the need to control an undesirable situation b...\n3                                                  NaN\n4    personal intelligence is new kid on the block ...\nName: text, dtype: object"
     },
     "execution_count": 3,
     "metadata": {},
     "output_type": "execute_result"
    }
   ],
   "source": [
    "train_df = pd.read_csv('data/train.csv')[\"text\"]\n",
    "train_df.head()"
   ],
   "metadata": {
    "collapsed": false,
    "ExecuteTime": {
     "end_time": "2024-02-24T13:02:19.699724900Z",
     "start_time": "2024-02-24T13:02:19.097924400Z"
    }
   },
   "id": "caba2ff33eb93cf4",
   "execution_count": 3
  },
  {
   "cell_type": "code",
   "outputs": [
    {
     "data": {
      "text/plain": "18000"
     },
     "execution_count": 4,
     "metadata": {},
     "output_type": "execute_result"
    }
   ],
   "source": [
    "train_df.isna().sum()"
   ],
   "metadata": {
    "collapsed": false,
    "ExecuteTime": {
     "end_time": "2024-02-24T13:02:19.701725500Z",
     "start_time": "2024-02-24T13:02:19.689006500Z"
    }
   },
   "id": "b1419e700fb4b080",
   "execution_count": 4
  },
  {
   "cell_type": "code",
   "outputs": [
    {
     "data": {
      "text/plain": "3     NaN\n7     NaN\n16    NaN\n19    NaN\n21    NaN\nName: text, dtype: object"
     },
     "execution_count": 5,
     "metadata": {},
     "output_type": "execute_result"
    }
   ],
   "source": [
    "train_df[train_df.isna()].head()"
   ],
   "metadata": {
    "collapsed": false,
    "ExecuteTime": {
     "end_time": "2024-02-24T13:02:19.784801600Z",
     "start_time": "2024-02-24T13:02:19.694725400Z"
    }
   },
   "id": "c92cb38a7cf65a26",
   "execution_count": 5
  },
  {
   "cell_type": "code",
   "outputs": [],
   "source": [
    "train_df = train_df.dropna()"
   ],
   "metadata": {
    "collapsed": false,
    "ExecuteTime": {
     "end_time": "2024-02-24T13:02:19.786800800Z",
     "start_time": "2024-02-24T13:02:19.746665400Z"
    }
   },
   "id": "52229415e448e701",
   "execution_count": 6
  },
  {
   "cell_type": "code",
   "outputs": [
    {
     "data": {
      "text/plain": "0                    what if in doing so we won't just\n1              it should have been a glorious week for\n2       a few protesters who refused to leave remained\n3    scientists didn't know if humans played that game\n4                here are five ways to get some beauty\nName: sample, dtype: object"
     },
     "execution_count": 7,
     "metadata": {},
     "output_type": "execute_result"
    }
   ],
   "source": [
    "test_df = pd.read_csv(\"data/test.csv\")[\"sample\"]\n",
    "test_df.head()"
   ],
   "metadata": {
    "collapsed": false,
    "ExecuteTime": {
     "end_time": "2024-02-24T13:02:19.809788600Z",
     "start_time": "2024-02-24T13:02:19.756573100Z"
    }
   },
   "id": "9c0f70a20b28975a",
   "execution_count": 7
  },
  {
   "cell_type": "code",
   "outputs": [
    {
     "data": {
      "text/plain": "0"
     },
     "execution_count": 8,
     "metadata": {},
     "output_type": "execute_result"
    }
   ],
   "source": [
    "test_df.isna().sum()"
   ],
   "metadata": {
    "collapsed": false,
    "ExecuteTime": {
     "end_time": "2024-02-24T13:02:19.837790Z",
     "start_time": "2024-02-24T13:02:19.786800800Z"
    }
   },
   "id": "6207b143d28102be",
   "execution_count": 8
  },
  {
   "cell_type": "code",
   "outputs": [],
   "source": [
    "train_text_lens = []\n",
    "\n",
    "\n",
    "def count_len(text: str):\n",
    "    train_text_lens.append(len(text.split()))\n",
    "    return text\n",
    "\n",
    "\n",
    "train_df = train_df.apply(count_len)"
   ],
   "metadata": {
    "collapsed": false,
    "ExecuteTime": {
     "end_time": "2024-02-24T13:02:20.097113700Z",
     "start_time": "2024-02-24T13:02:19.792794500Z"
    }
   },
   "id": "9102d5ee2d260239",
   "execution_count": 9
  },
  {
   "cell_type": "code",
   "outputs": [
    {
     "data": {
      "text/plain": "<Figure size 640x480 with 1 Axes>",
      "image/png": "[encoded data removed]"
     },
     "metadata": {},
     "output_type": "display_data"
    }
   ],
   "source": [
    "sns.histplot(train_text_lens)\n",
    "plt.xlabel(\"Number\")\n",
    "plt.title(\"Histogram of lengths of samples in the train dataset\")\n",
    "plt.show()"
   ],
   "metadata": {
    "collapsed": false,
    "ExecuteTime": {
     "end_time": "2024-02-24T13:02:21.696670700Z",
     "start_time": "2024-02-24T13:02:20.122114700Z"
    }
   },
   "id": "a4c64c753af5abe1",
   "execution_count": 10
  },
  {
   "cell_type": "code",
   "outputs": [
    {
     "data": {
      "text/plain": "21"
     },
     "execution_count": 11,
     "metadata": {},
     "output_type": "execute_result"
    }
   ],
   "source": [
    "max(set(train_text_lens), key=train_text_lens.count)"
   ],
   "metadata": {
    "collapsed": false,
    "ExecuteTime": {
     "end_time": "2024-02-24T13:02:22.112802400Z",
     "start_time": "2024-02-24T13:02:22.106668800Z"
    }
   },
   "id": "858bd1df66eee672",
   "execution_count": 11
  },
  {
   "cell_type": "code",
   "outputs": [
    {
     "data": {
      "text/plain": "(244, 1)"
     },
     "execution_count": 12,
     "metadata": {},
     "output_type": "execute_result"
    }
   ],
   "source": [
    "max(set(train_text_lens)), min(set(train_text_lens))"
   ],
   "metadata": {
    "collapsed": false,
    "ExecuteTime": {
     "end_time": "2024-02-24T13:02:22.134414400Z",
     "start_time": "2024-02-24T13:02:22.112802400Z"
    }
   },
   "id": "588a0ce08ecbce35",
   "execution_count": 12
  },
  {
   "cell_type": "code",
   "outputs": [],
   "source": [
    "test_text_lens = []\n",
    "\n",
    "\n",
    "def count_len(text_row: str):\n",
    "    test_text_lens.append(len(text_row.split()))\n",
    "    return text_row\n",
    "\n",
    "\n",
    "test_df = test_df.apply(count_len)"
   ],
   "metadata": {
    "collapsed": false,
    "ExecuteTime": {
     "end_time": "2024-02-24T13:02:22.224637300Z",
     "start_time": "2024-02-24T13:02:22.145628700Z"
    }
   },
   "id": "3e62b2f626ffe1b",
   "execution_count": 13
  },
  {
   "cell_type": "code",
   "outputs": [
    {
     "data": {
      "text/plain": "<Figure size 640x480 with 1 Axes>",
      "image/png": "[encoded data removed]"
     },
     "metadata": {},
     "output_type": "display_data"
    }
   ],
   "source": [
    "sns.histplot(test_text_lens)\n",
    "plt.xlabel(\"Number\")\n",
    "plt.title(\"Histogram of lengths of samples in the test dataset\")\n",
    "plt.show()"
   ],
   "metadata": {
    "collapsed": false,
    "ExecuteTime": {
     "end_time": "2024-02-24T13:02:22.464200100Z",
     "start_time": "2024-02-24T13:02:22.151636700Z"
    }
   },
   "id": "f66d2179e4b7ca7f",
   "execution_count": 14
  },
  {
   "cell_type": "code",
   "outputs": [
    {
     "data": {
      "text/plain": "8"
     },
     "execution_count": 15,
     "metadata": {},
     "output_type": "execute_result"
    }
   ],
   "source": [
    "max(set(test_text_lens), key=test_text_lens.count)"
   ],
   "metadata": {
    "collapsed": false,
    "ExecuteTime": {
     "end_time": "2024-02-24T13:02:22.485642200Z",
     "start_time": "2024-02-24T13:02:22.463198400Z"
    }
   },
   "id": "e5ecb98f6d5f22ee",
   "execution_count": 15
  },
  {
   "cell_type": "code",
   "outputs": [
    {
     "data": {
      "text/plain": "(11, 1)"
     },
     "execution_count": 16,
     "metadata": {},
     "output_type": "execute_result"
    }
   ],
   "source": [
    "max(set(test_text_lens)), min(set(test_text_lens))"
   ],
   "metadata": {
    "collapsed": false,
    "ExecuteTime": {
     "end_time": "2024-02-24T13:02:22.488628700Z",
     "start_time": "2024-02-24T13:02:22.474370600Z"
    }
   },
   "id": "308621fbac2e6e4d",
   "execution_count": 16
  },
  {
   "cell_type": "markdown",
   "source": [
    "Test text is not longer than 11 words. Meanwhile, there are lots of inputs sentences containing much more words. Thus, I'd split the train data up to 15 words in each to regularise length of train sentences.\n",
    "Because I have no idea if it's better to remove some examples where we have lesser than 2 words in train data (i.e. the model might generate the initial word which is not helpful for test data), I'd create 2 train datasets: with these examples and without them.\n",
    "Which one do I need to use for better results? I would test that using not fine_tuned model."
   ],
   "metadata": {
    "collapsed": false
   },
   "id": "707f5b433ebedc5"
  },
  {
   "cell_type": "code",
   "outputs": [],
   "source": [
    "from typing import List, Tuple\n",
    "from string import punctuation as punct\n",
    "STR_LEN = 15"
   ],
   "metadata": {
    "collapsed": false,
    "ExecuteTime": {
     "end_time": "2024-02-24T13:02:22.489629100Z",
     "start_time": "2024-02-24T13:02:22.481114700Z"
    }
   },
   "id": "fa30dbcf631d5054",
   "execution_count": 17
  },
  {
   "cell_type": "code",
   "outputs": [],
   "source": [
    "text_split = train_df.tolist()  # Every string will be split to some strings with 15 words at most each. The last new string will be added to the list too.\n",
    "text_cut = train_df.tolist()  # Every string will be split to some strings with 15 words at most each. The last new string  with less than 2 words will be removed."
   ],
   "metadata": {
    "collapsed": false,
    "ExecuteTime": {
     "end_time": "2024-02-24T13:02:22.595627500Z",
     "start_time": "2024-02-24T13:02:22.486632100Z"
    }
   },
   "id": "cfdc14dec8b81feb",
   "execution_count": 18
  },
  {
   "cell_type": "code",
   "outputs": [],
   "source": [
    "def prerocess(text_list: List[str], last_stay: bool = False) -> Tuple[List[str], List[str]]:\n",
    "    global STR_LEN\n",
    "    input_list = []\n",
    "    output_list = []\n",
    "    for text in text_list:\n",
    "        for p in punct:\n",
    "            text = text.replace(p, f\" {p} \")\n",
    "        words = text.split()\n",
    "        for str_i in range(0, len(words), STR_LEN + 1):\n",
    "            single_sample = words[str_i: str_i + STR_LEN + 1]\n",
    "            if not last_stay and len(single_sample) < 3:\n",
    "                continue\n",
    "            input_list.append(single_sample[:-1])\n",
    "            output_list.append(single_sample[-1])\n",
    "            \n",
    "    return input_list, output_list"
   ],
   "metadata": {
    "collapsed": false,
    "ExecuteTime": {
     "end_time": "2024-02-24T13:02:22.596627600Z",
     "start_time": "2024-02-24T13:02:22.503320800Z"
    }
   },
   "id": "fc1f9e1bb487540a",
   "execution_count": 19
  },
  {
   "cell_type": "code",
   "outputs": [],
   "source": [
    "text_split_input, text_split_output = prerocess(text_split, True)\n",
    "text_cut_input, text_cut_output = prerocess(text_cut)"
   ],
   "metadata": {
    "collapsed": false,
    "ExecuteTime": {
     "end_time": "2024-02-24T13:02:28.610632200Z",
     "start_time": "2024-02-24T13:02:22.653630Z"
    }
   },
   "id": "7be421ae8cad4efd",
   "execution_count": 20
  },
  {
   "cell_type": "code",
   "outputs": [
    {
     "name": "stdout",
     "output_type": "stream",
     "text": [
      "Example with splitting\n",
      "Inputs:\n",
      "['you', 'don', \"'\", 't', 'see', 'at', 'first']\n",
      "['during', 'an', 'appearance', 'on', 'huffpost', 'live', 'monday', 'style', 'me', 'pretty', 'founder', 'abby', 'larson', 'offered', 'her']\n",
      "['on', 'glamming', 'up', 'a']\n",
      "['the', 'fatalities', 'include', 'an', '18', 'year', 'old', 'and', '10', 'year', 'old', 'a', 'motive', 'for', 'the']\n",
      "['has', 'yet', 'to', 'be']\n",
      "Outputs:\n",
      "['glance', 'advice', 'budget', 'attack', 'determined']\n",
      "\n",
      "\n",
      "Example with cutting\n",
      "Inputs:\n",
      "['during', 'an', 'appearance', 'on', 'huffpost', 'live', 'monday', 'style', 'me', 'pretty', 'founder', 'abby', 'larson', 'offered', 'her']\n",
      "['on', 'glamming', 'up', 'a']\n",
      "['the', 'fatalities', 'include', 'an', '18', 'year', 'old', 'and', '10', 'year', 'old', 'a', 'motive', 'for', 'the']\n",
      "['has', 'yet', 'to', 'be']\n",
      "['earth', 'accounting', 'is', 'the', 'effort', 'of', 'a', 'dedicated', 'but', 'as', 'yet', 'small', 'group', 'to', 'create']\n",
      "Outputs:\n",
      "['advice', 'budget', 'attack', 'determined', 'this']\n"
     ]
    }
   ],
   "source": [
    "print(\"Example with splitting\")\n",
    "print(\"Inputs:\", *text_split_input[15:20], \"Outputs:\", text_split_output[15:20], \"\\n\", sep=\"\\n\")\n",
    "print(\"Example with cutting\")\n",
    "print(\"Inputs:\", *text_cut_input[15:20], \"Outputs:\", text_cut_output[15:20], \"\\n\", sep=\"\\n\")"
   ],
   "metadata": {
    "collapsed": false,
    "ExecuteTime": {
     "end_time": "2024-02-24T13:02:28.613632200Z",
     "start_time": "2024-02-24T13:02:28.605670600Z"
    }
   },
   "id": "97d8396b767f3bec",
   "execution_count": 21
  },
  {
   "cell_type": "code",
   "outputs": [],
   "source": [
    "import torch\n",
    "torch.random.manual_seed(SEED)\n",
    "\n",
    "from torchtext.data.utils import get_tokenizer\n",
    "from torchtext.vocab import build_vocab_from_iterator, Vocab\n",
    "\n",
    "MAX_TOKENS = 50000\n",
    "\n",
    "\n",
    "def create_vocab_and_tokens(input_text: List[str], output_text: List[str]) -> Tuple[Vocab, List[torch.LongTensor], List[int]]:\n",
    "    tokenizer = get_tokenizer(\"basic_english\")\n",
    "    train_tokens = [tokenizer(\" \".join(list_in + [list_out])) for list_in, list_out in zip(input_text, output_text)]\n",
    "    vocab = build_vocab_from_iterator(train_tokens, specials=[\"<unk>\"])\n",
    "    train_in = []\n",
    "    train_out = []\n",
    "    \n",
    "    for list_in, list_out in zip(input_text, output_text):\n",
    "        list_in = [vocab[word] for word in list_in] + [0] * (STR_LEN - len(list_in))        \n",
    "        train_in.append(torch.tensor(list_in, dtype=torch.long))\n",
    "        train_out.append(vocab[list_out])\n",
    "    \n",
    "    return vocab, train_in, train_out"
   ],
   "metadata": {
    "collapsed": false,
    "ExecuteTime": {
     "end_time": "2024-02-24T13:02:32.092140400Z",
     "start_time": "2024-02-24T13:02:28.619634600Z"
    }
   },
   "id": "cff86e7a578d57db",
   "execution_count": 22
  },
  {
   "cell_type": "code",
   "outputs": [],
   "source": [
    "vocab_split, input_split, output_split = create_vocab_and_tokens(text_split_input, text_split_output)\n",
    "vocab_cut, input_cut, output_cut = create_vocab_and_tokens(text_cut_input, text_cut_output)"
   ],
   "metadata": {
    "collapsed": false,
    "ExecuteTime": {
     "end_time": "2024-02-24T13:03:00.197401700Z",
     "start_time": "2024-02-24T13:02:32.089142900Z"
    }
   },
   "id": "a522a6ceda276e1a",
   "execution_count": 23
  },
  {
   "cell_type": "code",
   "outputs": [],
   "source": [
    "from sklearn.model_selection import train_test_split"
   ],
   "metadata": {
    "collapsed": false,
    "ExecuteTime": {
     "end_time": "2024-02-24T13:03:00.444473200Z",
     "start_time": "2024-02-24T13:03:00.199399600Z"
    }
   },
   "id": "5ed6a27625702e17",
   "execution_count": 24
  },
  {
   "cell_type": "code",
   "outputs": [],
   "source": [
    "train_x_split, val_x_split, train_y_split, val_y_split = train_test_split(input_split, output_split, test_size=0.2, random_state=SEED)\n",
    "train_x_cut, val_x_cut, train_y_cut, val_y_cut = train_test_split(input_cut, output_cut, test_size=0.2, random_state=SEED)"
   ],
   "metadata": {
    "collapsed": false,
    "ExecuteTime": {
     "end_time": "2024-02-24T13:03:00.763614500Z",
     "start_time": "2024-02-24T13:03:00.449447700Z"
    }
   },
   "id": "761815bb691aa7",
   "execution_count": 25
  },
  {
   "cell_type": "code",
   "outputs": [],
   "source": [
    "import torch.nn as nn\n",
    "from torch.nn import functional as F"
   ],
   "metadata": {
    "collapsed": false,
    "ExecuteTime": {
     "end_time": "2024-02-24T13:03:00.779978500Z",
     "start_time": "2024-02-24T13:03:00.766996300Z"
    }
   },
   "id": "53d3f59f35da59ad",
   "execution_count": 26
  },
  {
   "cell_type": "code",
   "outputs": [],
   "source": [
    "class NGramLM(nn.Module):\n",
    "    def __init__(self, vocab_size: int, embedding_dim: int, hidden_dim: int, drop_prob: float):\n",
    "        super(NGramLM, self).__init__()\n",
    "        self.embedding = nn.Embedding(vocab_size, embedding_dim)\n",
    "        self.fc1 = nn.Linear(embedding_dim  * STR_LEN, hidden_dim)\n",
    "        self.batch_norm = nn.BatchNorm1d(hidden_dim)\n",
    "        self.dropout = nn.Dropout(drop_prob)\n",
    "        self.fc2 = nn.Linear(hidden_dim, vocab_size)\n",
    "        self.softmax = nn.LogSoftmax(dim=1)\n",
    "\n",
    "    def forward(self, input_tensors):\n",
    "        out = self.embedding(input_tensors)\n",
    "        out = out.view(out.size(0), -1)\n",
    "        out = F.relu(self.fc1(out))\n",
    "        out = self.dropout(self.batch_norm(out))\n",
    "        return self.softmax(self.fc2(out))"
   ],
   "metadata": {
    "collapsed": false,
    "ExecuteTime": {
     "end_time": "2024-02-24T13:03:00.830191300Z",
     "start_time": "2024-02-24T13:03:00.827200400Z"
    }
   },
   "id": "5bd8e8bd827b3ff1",
   "execution_count": 27
  },
  {
   "cell_type": "code",
   "outputs": [],
   "source": [
    "from nltk.translate.bleu_score import sentence_bleu\n",
    "from torch.utils.data import DataLoader\n",
    "import torch.optim as optim\n",
    "from tqdm import tqdm\n",
    "\n",
    "DEVICE = torch.device(\"cuda\" if torch.cuda.is_available() else \"cpu\")"
   ],
   "metadata": {
    "collapsed": false,
    "ExecuteTime": {
     "end_time": "2024-02-24T13:03:01.282446500Z",
     "start_time": "2024-02-24T13:03:00.833191900Z"
    }
   },
   "id": "c76ca3fee79eb8e1",
   "execution_count": 28
  },
  {
   "cell_type": "code",
   "outputs": [],
   "source": [
    "def train_model(model: NGramLM, train_in: List[torch.LongTensor], train_out: List[int], optimizer: optim.Optimizer, loss_fn, batch_size: int, device: torch.device, info: bool = True):\n",
    "    train_data = DataLoader(list(zip(train_in, train_out)), batch_size, True)\n",
    "    if info:\n",
    "        train_data = tqdm(train_data, \"Model training\", len(train_data))\n",
    "    model.train()\n",
    "    \n",
    "    total_loss = 0\n",
    "    for x, y in train_data:\n",
    "        x, y = x.to(device), y.to(device)\n",
    "        optimizer.zero_grad()\n",
    "        pred = model(x)\n",
    "        loss = loss_fn(pred, y)\n",
    "        loss.backward()\n",
    "        optimizer.step()\n",
    "        total_loss += loss.item()\n",
    "    \n",
    "    if info:\n",
    "        print(f\"Total loss: {total_loss}\")\n",
    "    torch.cuda.empty_cache()\n",
    "    return total_loss\n",
    "\n",
    "\n",
    "def validate_model(model: NGramLM, val_in: List[torch.LongTensor], val_out: List[int], vocab: Vocab, batch_size: int, device: torch.device, info: bool = True):\n",
    "    val_data = DataLoader(list(zip(val_in, val_out)), batch_size)\n",
    "    if info:\n",
    "        val_data = tqdm(val_data, \"Model validation\", len(val_data))\n",
    "        \n",
    "    total_bleu_score = 0\n",
    "    model.eval()\n",
    "    \n",
    "    for batch_in, batch_out in val_data:\n",
    "        batch_in, batch_out = batch_in.to(device), batch_out.to(device)\n",
    "        pred = model(batch_in)\n",
    "        pred_ids = torch.argmax(pred, dim=1)\n",
    "        pred_words = vocab.lookup_tokens(pred_ids.tolist())\n",
    "        ref_words = vocab.lookup_tokens(batch_out.tolist())\n",
    "\n",
    "        batch_sentences = []\n",
    "        batch_references = []\n",
    "        for str_i in range(len(batch_in)):\n",
    "            start_words = vocab.lookup_tokens(batch_in[str_i].tolist())\n",
    "            batch_sentences.append(start_words + [pred_words[str_i]])\n",
    "            batch_references.append(start_words + [ref_words[str_i]])\n",
    "\n",
    "        batch_bleu_scores = [sentence_bleu([ref], pred) for ref, pred in zip(batch_references, batch_sentences)]\n",
    "        total_bleu_score += sum(batch_bleu_scores) / len(batch_bleu_scores)\n",
    "    \n",
    "    if info:\n",
    "        print(f\"Average BLEU Score: {total_bleu_score / len(val_data)}\")\n",
    "    return total_bleu_score / len(val_data)\n",
    "\n",
    "\n",
    "def train_validate_model(model: NGramLM, train_in: List[torch.LongTensor], train_out: List[int], val_in: List[torch.LongTensor], val_out: List[int], vocab: Vocab, optimizer: optim.Optimizer, loss_fn, device: torch.device, batch_size: int, epochs: int, info: bool = True):\n",
    "    loss = []\n",
    "    score = []\n",
    "    for epoch in range(epochs):\n",
    "        if info:\n",
    "            print(f\"Epoch {epoch + 1}:\")\n",
    "        loss.append(train_model(model, train_in, train_out, optimizer, loss_fn, batch_size, device, info))\n",
    "        score.append(validate_model(model, val_in, val_out, vocab, batch_size, device, info))\n",
    "    \n",
    "    return loss, score"
   ],
   "metadata": {
    "collapsed": false,
    "ExecuteTime": {
     "end_time": "2024-02-24T13:03:01.299050Z",
     "start_time": "2024-02-24T13:03:01.296050800Z"
    }
   },
   "id": "762844f12e0488b0",
   "execution_count": 29
  },
  {
   "cell_type": "code",
   "outputs": [],
   "source": [
    "EMBEDDING_DIM = 100\n",
    "HIDDEN_DIM = 4096\n",
    "DROP_PROB = 0.4\n",
    "LR = 0.01\n",
    "BATCH_SIZE = 128\n",
    "EPOCHS = 3"
   ],
   "metadata": {
    "collapsed": false,
    "ExecuteTime": {
     "end_time": "2024-02-24T13:03:01.333927100Z",
     "start_time": "2024-02-24T13:03:01.303156400Z"
    }
   },
   "id": "a955dcfe30ff6696",
   "execution_count": 30
  },
  {
   "cell_type": "code",
   "outputs": [
    {
     "name": "stdout",
     "output_type": "stream",
     "text": [
      "Train and validate on full data\n",
      "Epoch 1:\n"
     ]
    },
    {
     "name": "stderr",
     "output_type": "stream",
     "text": [
      "Model training: 100%|██████████| 2058/2058 [02:05<00:00, 16.39it/s]\n"
     ]
    },
    {
     "name": "stdout",
     "output_type": "stream",
     "text": [
      "Total loss: 271387.9749851227\n"
     ]
    },
    {
     "name": "stderr",
     "output_type": "stream",
     "text": [
      "Model validation: 100%|██████████| 515/515 [00:19<00:00, 26.46it/s]\n"
     ]
    },
    {
     "name": "stdout",
     "output_type": "stream",
     "text": [
      "Average BLEU Score: 0.9327512648311368\n",
      "Epoch 2:\n"
     ]
    },
    {
     "name": "stderr",
     "output_type": "stream",
     "text": [
      "Model training: 100%|██████████| 2058/2058 [02:05<00:00, 16.39it/s]\n"
     ]
    },
    {
     "name": "stdout",
     "output_type": "stream",
     "text": [
      "Total loss: 348035.3880004883\n"
     ]
    },
    {
     "name": "stderr",
     "output_type": "stream",
     "text": [
      "Model validation: 100%|██████████| 515/515 [00:19<00:00, 26.57it/s]\n"
     ]
    },
    {
     "name": "stdout",
     "output_type": "stream",
     "text": [
      "Average BLEU Score: 0.9311401232985569\n",
      "Epoch 3:\n"
     ]
    },
    {
     "name": "stderr",
     "output_type": "stream",
     "text": [
      "Model training: 100%|██████████| 2058/2058 [02:05<00:00, 16.37it/s]\n"
     ]
    },
    {
     "name": "stdout",
     "output_type": "stream",
     "text": [
      "Total loss: 402518.75941467285\n"
     ]
    },
    {
     "name": "stderr",
     "output_type": "stream",
     "text": [
      "Model validation: 100%|██████████| 515/515 [00:19<00:00, 26.58it/s]\n"
     ]
    },
    {
     "name": "stdout",
     "output_type": "stream",
     "text": [
      "Average BLEU Score: 0.9320838419044196\n",
      "Train and validate on cut data\n",
      "Epoch 1:\n"
     ]
    },
    {
     "name": "stderr",
     "output_type": "stream",
     "text": [
      "Model training: 100%|██████████| 1947/1947 [02:02<00:00, 15.95it/s]\n"
     ]
    },
    {
     "name": "stdout",
     "output_type": "stream",
     "text": [
      "Total loss: 251857.02425003052\n"
     ]
    },
    {
     "name": "stderr",
     "output_type": "stream",
     "text": [
      "Model validation: 100%|██████████| 487/487 [00:19<00:00, 24.36it/s]\n"
     ]
    },
    {
     "name": "stdout",
     "output_type": "stream",
     "text": [
      "Average BLEU Score: 0.9309717621384204\n",
      "Epoch 2:\n"
     ]
    },
    {
     "name": "stderr",
     "output_type": "stream",
     "text": [
      "Model training: 100%|██████████| 1947/1947 [02:03<00:00, 15.83it/s]\n"
     ]
    },
    {
     "name": "stdout",
     "output_type": "stream",
     "text": [
      "Total loss: 343568.6124725342\n"
     ]
    },
    {
     "name": "stderr",
     "output_type": "stream",
     "text": [
      "Model validation: 100%|██████████| 487/487 [00:20<00:00, 24.07it/s]\n"
     ]
    },
    {
     "name": "stdout",
     "output_type": "stream",
     "text": [
      "Average BLEU Score: 0.9316374816946474\n",
      "Epoch 3:\n"
     ]
    },
    {
     "name": "stderr",
     "output_type": "stream",
     "text": [
      "Model training: 100%|██████████| 1947/1947 [02:02<00:00, 15.88it/s]\n"
     ]
    },
    {
     "name": "stdout",
     "output_type": "stream",
     "text": [
      "Total loss: 369437.1028289795\n"
     ]
    },
    {
     "name": "stderr",
     "output_type": "stream",
     "text": [
      "Model validation: 100%|██████████| 487/487 [00:20<00:00, 23.97it/s]\n"
     ]
    },
    {
     "name": "stdout",
     "output_type": "stream",
     "text": [
      "Average BLEU Score: 0.9320576417457103\n",
      "Train on cut data, validate on full data\n",
      "Epoch 1:\n"
     ]
    },
    {
     "name": "stderr",
     "output_type": "stream",
     "text": [
      "Model training: 100%|██████████| 1947/1947 [00:41<00:00, 47.45it/s]\n"
     ]
    },
    {
     "name": "stdout",
     "output_type": "stream",
     "text": [
      "Total loss: 22422.191197395325\n"
     ]
    },
    {
     "name": "stderr",
     "output_type": "stream",
     "text": [
      "Model validation: 100%|██████████| 515/515 [00:21<00:00, 24.08it/s]\n"
     ]
    },
    {
     "name": "stdout",
     "output_type": "stream",
     "text": [
      "Average BLEU Score: 0.9306048591021066\n",
      "Epoch 2:\n"
     ]
    },
    {
     "name": "stderr",
     "output_type": "stream",
     "text": [
      "Model training: 100%|██████████| 1947/1947 [02:18<00:00, 14.11it/s]\n"
     ]
    },
    {
     "name": "stdout",
     "output_type": "stream",
     "text": [
      "Total loss: 22423.815982818604\n"
     ]
    },
    {
     "name": "stderr",
     "output_type": "stream",
     "text": [
      "Model validation: 100%|██████████| 515/515 [00:20<00:00, 25.71it/s]\n"
     ]
    },
    {
     "name": "stdout",
     "output_type": "stream",
     "text": [
      "Average BLEU Score: 0.9306048591021066\n",
      "Epoch 3:\n"
     ]
    },
    {
     "name": "stderr",
     "output_type": "stream",
     "text": [
      "Model training: 100%|██████████| 1947/1947 [00:39<00:00, 49.00it/s]\n"
     ]
    },
    {
     "name": "stdout",
     "output_type": "stream",
     "text": [
      "Total loss: 22423.528858184814\n"
     ]
    },
    {
     "name": "stderr",
     "output_type": "stream",
     "text": [
      "Model validation: 100%|██████████| 515/515 [00:19<00:00, 26.43it/s]"
     ]
    },
    {
     "name": "stdout",
     "output_type": "stream",
     "text": [
      "Average BLEU Score: 0.9306048591021066\n",
      "\n",
      "\n",
      "Average of best 5 scores in training\n",
      "Split data: 0.5591950460068227\n",
      "Cut data: 0.5589333771157556\n",
      "Merged data: 0.5583629154612639\n"
     ]
    },
    {
     "name": "stderr",
     "output_type": "stream",
     "text": [
      "\n"
     ]
    }
   ],
   "source": [
    "EMBEDDING_DIM = 300\n",
    "HIDDEN_DIM = 3072\n",
    "DROP_PROB = 0.4\n",
    "LR = 0.1\n",
    "BATCH_SIZE = 128\n",
    "EPOCHS = 3\n",
    "\n",
    "print(\"Train and validate on full data\")\n",
    "ngram_split = NGramLM(len(vocab_split), EMBEDDING_DIM, HIDDEN_DIM, DROP_PROB).to(DEVICE)\n",
    "optimizer_split = optim.Adam(ngram_split.parameters(), LR)\n",
    "loss_fn_split = nn.NLLLoss()\n",
    "_, split_score = train_validate_model(ngram_split, train_x_split, train_y_split, val_x_split, val_y_split, vocab_split, optimizer_split, loss_fn_split, DEVICE, BATCH_SIZE, EPOCHS)\n",
    "\n",
    "print(\"Train and validate on cut data\")\n",
    "ngram_cut = NGramLM(len(vocab_cut), EMBEDDING_DIM, HIDDEN_DIM, DROP_PROB).to(DEVICE)\n",
    "optimizer_cut = optim.Adam(ngram_cut.parameters(), LR)\n",
    "loss_fn_cut = nn.NLLLoss()\n",
    "_, cut_score = train_validate_model(ngram_cut, train_x_cut, train_y_cut, val_x_cut, val_y_cut, vocab_cut, optimizer_cut, loss_fn_cut, DEVICE, BATCH_SIZE, EPOCHS)\n",
    "\n",
    "print(\"Train on cut data, validate on full data\")\n",
    "ngram_cut_split = NGramLM(len(vocab_split), EMBEDDING_DIM, HIDDEN_DIM, DROP_PROB).to(DEVICE)\n",
    "optimizer_cut_split = optim.Adam(ngram_split.parameters(), LR)\n",
    "loss_fn_cut_split = nn.NLLLoss()\n",
    "_, merge_score = train_validate_model(ngram_cut_split, train_x_cut, train_y_cut, val_x_split, val_y_split, vocab_split, optimizer_cut_split, loss_fn_cut_split, DEVICE, BATCH_SIZE, EPOCHS)\n",
    "\n",
    "print(\"\\n\\nAverage of best 5 scores in training\")\n",
    "print(f\"Split data: {sum(sorted(split_score, reverse=True)[:5]) / 5}\")\n",
    "print(f\"Cut data: {sum(sorted(cut_score, reverse=True)[:5]) / 5}\")\n",
    "print(f\"Merged data: {sum(sorted(merge_score, reverse=True)[:5]) / 5}\")"
   ],
   "metadata": {
    "collapsed": false,
    "ExecuteTime": {
     "end_time": "2024-02-24T12:01:49.202318800Z",
     "start_time": "2024-02-24T11:42:31.255260200Z"
    }
   },
   "id": "6c61ace3d103d111",
   "execution_count": 30
  },
  {
   "cell_type": "code",
   "outputs": [],
   "source": [
    "main_vocab = vocab_split\n",
    "train_x, val_x, train_y, val_y = train_x_split, val_x_split, train_y_split, val_y_split"
   ],
   "metadata": {
    "collapsed": false,
    "ExecuteTime": {
     "end_time": "2024-02-24T13:03:01.335935Z",
     "start_time": "2024-02-24T13:03:01.310919800Z"
    }
   },
   "id": "6d8b454469c1e2b5",
   "execution_count": 31
  },
  {
   "cell_type": "code",
   "outputs": [],
   "source": [
    "best_model = NGramLM(len(main_vocab), EMBEDDING_DIM, HIDDEN_DIM, DROP_PROB).to(DEVICE)\n",
    "best_optim = optim.Adam(best_model.parameters(), LR)\n",
    "best_loss_fn = nn.NLLLoss()"
   ],
   "metadata": {
    "collapsed": false,
    "ExecuteTime": {
     "end_time": "2024-02-24T13:03:04.832765700Z",
     "start_time": "2024-02-24T13:03:01.317914900Z"
    }
   },
   "id": "32f176c212c31ce9",
   "execution_count": 32
  },
  {
   "cell_type": "code",
   "outputs": [
    {
     "name": "stderr",
     "output_type": "stream",
     "text": [
      "Model training: 100%|██████████| 2572/2572 [02:58<00:00, 14.39it/s]\n"
     ]
    },
    {
     "name": "stdout",
     "output_type": "stream",
     "text": [
      "Total loss: 23096.30429983139\n"
     ]
    },
    {
     "name": "stderr",
     "output_type": "stream",
     "text": [
      "Model training: 100%|██████████| 2572/2572 [03:00<00:00, 14.27it/s]\n"
     ]
    },
    {
     "name": "stdout",
     "output_type": "stream",
     "text": [
      "Total loss: 21014.018681049347\n"
     ]
    },
    {
     "name": "stderr",
     "output_type": "stream",
     "text": [
      "Model training: 100%|██████████| 2572/2572 [03:00<00:00, 14.26it/s]\n"
     ]
    },
    {
     "name": "stdout",
     "output_type": "stream",
     "text": [
      "Total loss: 19784.416141033173\n"
     ]
    },
    {
     "name": "stderr",
     "output_type": "stream",
     "text": [
      "Model training: 100%|██████████| 2572/2572 [03:00<00:00, 14.27it/s]\n"
     ]
    },
    {
     "name": "stdout",
     "output_type": "stream",
     "text": [
      "Total loss: 17398.30679321289\n"
     ]
    },
    {
     "name": "stderr",
     "output_type": "stream",
     "text": [
      "Model training: 100%|██████████| 2572/2572 [03:01<00:00, 14.20it/s]\n"
     ]
    },
    {
     "name": "stdout",
     "output_type": "stream",
     "text": [
      "Total loss: 14522.13338136673\n"
     ]
    },
    {
     "name": "stderr",
     "output_type": "stream",
     "text": [
      "Model training: 100%|██████████| 2572/2572 [03:00<00:00, 14.28it/s]\n"
     ]
    },
    {
     "name": "stdout",
     "output_type": "stream",
     "text": [
      "Total loss: 12728.261999607086\n"
     ]
    },
    {
     "name": "stderr",
     "output_type": "stream",
     "text": [
      "Model training: 100%|██████████| 2572/2572 [03:00<00:00, 14.28it/s]\n"
     ]
    },
    {
     "name": "stdout",
     "output_type": "stream",
     "text": [
      "Total loss: 11561.032462358475\n"
     ]
    },
    {
     "name": "stderr",
     "output_type": "stream",
     "text": [
      "Model training: 100%|██████████| 2572/2572 [02:59<00:00, 14.30it/s]\n"
     ]
    },
    {
     "name": "stdout",
     "output_type": "stream",
     "text": [
      "Total loss: 10745.0839407444\n"
     ]
    },
    {
     "name": "stderr",
     "output_type": "stream",
     "text": [
      "Model training: 100%|██████████| 2572/2572 [03:00<00:00, 14.27it/s]\n"
     ]
    },
    {
     "name": "stdout",
     "output_type": "stream",
     "text": [
      "Total loss: 10218.255128264427\n"
     ]
    },
    {
     "name": "stderr",
     "output_type": "stream",
     "text": [
      "Model training: 100%|██████████| 2572/2572 [03:01<00:00, 14.20it/s]\n"
     ]
    },
    {
     "name": "stdout",
     "output_type": "stream",
     "text": [
      "Total loss: 9794.319899439812\n"
     ]
    },
    {
     "name": "stderr",
     "output_type": "stream",
     "text": [
      "Model training: 100%|██████████| 2572/2572 [02:56<00:00, 14.55it/s]\n"
     ]
    },
    {
     "name": "stdout",
     "output_type": "stream",
     "text": [
      "Total loss: 9526.219476103783\n"
     ]
    },
    {
     "name": "stderr",
     "output_type": "stream",
     "text": [
      "Model training: 100%|██████████| 2572/2572 [02:58<00:00, 14.41it/s]\n"
     ]
    },
    {
     "name": "stdout",
     "output_type": "stream",
     "text": [
      "Total loss: 9292.058467268944\n"
     ]
    },
    {
     "name": "stderr",
     "output_type": "stream",
     "text": [
      "Model training: 100%|██████████| 2572/2572 [02:57<00:00, 14.51it/s]\n"
     ]
    },
    {
     "name": "stdout",
     "output_type": "stream",
     "text": [
      "Total loss: 9031.829261660576\n"
     ]
    },
    {
     "name": "stderr",
     "output_type": "stream",
     "text": [
      "Model training: 100%|██████████| 2572/2572 [02:58<00:00, 14.43it/s]\n"
     ]
    },
    {
     "name": "stdout",
     "output_type": "stream",
     "text": [
      "Total loss: 8915.756856679916\n"
     ]
    },
    {
     "name": "stderr",
     "output_type": "stream",
     "text": [
      "Model training: 100%|██████████| 2572/2572 [02:55<00:00, 14.68it/s]\n"
     ]
    },
    {
     "name": "stdout",
     "output_type": "stream",
     "text": [
      "Total loss: 8891.929317831993\n"
     ]
    },
    {
     "name": "stderr",
     "output_type": "stream",
     "text": [
      "Model training: 100%|██████████| 2572/2572 [02:57<00:00, 14.51it/s]\n"
     ]
    },
    {
     "name": "stdout",
     "output_type": "stream",
     "text": [
      "Total loss: 8850.432147979736\n"
     ]
    },
    {
     "name": "stderr",
     "output_type": "stream",
     "text": [
      "Model training: 100%|██████████| 2572/2572 [03:00<00:00, 14.22it/s]\n"
     ]
    },
    {
     "name": "stdout",
     "output_type": "stream",
     "text": [
      "Total loss: 8780.681767940521\n"
     ]
    },
    {
     "name": "stderr",
     "output_type": "stream",
     "text": [
      "Model training: 100%|██████████| 2572/2572 [03:01<00:00, 14.13it/s]\n"
     ]
    },
    {
     "name": "stdout",
     "output_type": "stream",
     "text": [
      "Total loss: 8739.196311593056\n"
     ]
    },
    {
     "name": "stderr",
     "output_type": "stream",
     "text": [
      "Model training: 100%|██████████| 2572/2572 [03:00<00:00, 14.26it/s]\n"
     ]
    },
    {
     "name": "stdout",
     "output_type": "stream",
     "text": [
      "Total loss: 8765.813013076782\n"
     ]
    },
    {
     "name": "stderr",
     "output_type": "stream",
     "text": [
      "Model training: 100%|██████████| 2572/2572 [02:54<00:00, 14.71it/s]\n"
     ]
    },
    {
     "name": "stdout",
     "output_type": "stream",
     "text": [
      "Total loss: 8808.762719988823\n"
     ]
    },
    {
     "ename": "RuntimeError",
     "evalue": "File models cannot be opened.",
     "output_type": "error",
     "traceback": [
      "\u001B[1;31m---------------------------------------------------------------------------\u001B[0m",
      "\u001B[1;31mRuntimeError\u001B[0m                              Traceback (most recent call last)",
      "Cell \u001B[1;32mIn[33], line 6\u001B[0m\n\u001B[0;32m      4\u001B[0m \u001B[38;5;28;01mfor\u001B[39;00m _ \u001B[38;5;129;01min\u001B[39;00m \u001B[38;5;28mrange\u001B[39m(\u001B[38;5;241m20\u001B[39m):\n\u001B[0;32m      5\u001B[0m     train_model(best_model, input_split, output_split, best_optim, best_loss_fn, BATCH_SIZE, DEVICE)\n\u001B[1;32m----> 6\u001B[0m torch\u001B[38;5;241m.\u001B[39msave(best_model\u001B[38;5;241m.\u001B[39mstate_dict(), \u001B[38;5;124m\"\u001B[39m\u001B[38;5;124mmodels\u001B[39m\u001B[38;5;124m\"\u001B[39m)\n",
      "File \u001B[1;32m~\\anaconda3\\envs\\DS\\Lib\\site-packages\\torch\\serialization.py:628\u001B[0m, in \u001B[0;36msave\u001B[1;34m(obj, f, pickle_module, pickle_protocol, _use_new_zipfile_serialization, _disable_byteorder_record)\u001B[0m\n\u001B[0;32m    625\u001B[0m _check_save_filelike(f)\n\u001B[0;32m    627\u001B[0m \u001B[38;5;28;01mif\u001B[39;00m _use_new_zipfile_serialization:\n\u001B[1;32m--> 628\u001B[0m     \u001B[38;5;28;01mwith\u001B[39;00m _open_zipfile_writer(f) \u001B[38;5;28;01mas\u001B[39;00m opened_zipfile:\n\u001B[0;32m    629\u001B[0m         _save(obj, opened_zipfile, pickle_module, pickle_protocol, _disable_byteorder_record)\n\u001B[0;32m    630\u001B[0m         \u001B[38;5;28;01mreturn\u001B[39;00m\n",
      "File \u001B[1;32m~\\anaconda3\\envs\\DS\\Lib\\site-packages\\torch\\serialization.py:502\u001B[0m, in \u001B[0;36m_open_zipfile_writer\u001B[1;34m(name_or_buffer)\u001B[0m\n\u001B[0;32m    500\u001B[0m \u001B[38;5;28;01melse\u001B[39;00m:\n\u001B[0;32m    501\u001B[0m     container \u001B[38;5;241m=\u001B[39m _open_zipfile_writer_buffer\n\u001B[1;32m--> 502\u001B[0m \u001B[38;5;28;01mreturn\u001B[39;00m container(name_or_buffer)\n",
      "File \u001B[1;32m~\\anaconda3\\envs\\DS\\Lib\\site-packages\\torch\\serialization.py:473\u001B[0m, in \u001B[0;36m_open_zipfile_writer_file.__init__\u001B[1;34m(self, name)\u001B[0m\n\u001B[0;32m    471\u001B[0m     \u001B[38;5;28msuper\u001B[39m()\u001B[38;5;241m.\u001B[39m\u001B[38;5;21m__init__\u001B[39m(torch\u001B[38;5;241m.\u001B[39m_C\u001B[38;5;241m.\u001B[39mPyTorchFileWriter(\u001B[38;5;28mself\u001B[39m\u001B[38;5;241m.\u001B[39mfile_stream))\n\u001B[0;32m    472\u001B[0m \u001B[38;5;28;01melse\u001B[39;00m:\n\u001B[1;32m--> 473\u001B[0m     \u001B[38;5;28msuper\u001B[39m()\u001B[38;5;241m.\u001B[39m\u001B[38;5;21m__init__\u001B[39m(torch\u001B[38;5;241m.\u001B[39m_C\u001B[38;5;241m.\u001B[39mPyTorchFileWriter(\u001B[38;5;28mself\u001B[39m\u001B[38;5;241m.\u001B[39mname))\n",
      "\u001B[1;31mRuntimeError\u001B[0m: File models cannot be opened."
     ]
    }
   ],
   "source": [
    "import os\n",
    "\n",
    "if not os.listdir(\"models\"):\n",
    "    for _ in range(20):\n",
    "        train_model(best_model, input_split, output_split, best_optim, best_loss_fn, BATCH_SIZE, DEVICE)\n",
    "    torch.save(best_model.state_dict(), \"models\")"
   ],
   "metadata": {
    "collapsed": false,
    "ExecuteTime": {
     "end_time": "2024-02-24T14:03:03.714362900Z",
     "start_time": "2024-02-24T13:03:04.836743300Z"
    }
   },
   "id": "36423294871d998f",
   "execution_count": 33
  },
  {
   "cell_type": "code",
   "outputs": [],
   "source": [
    "torch.save(best_model.state_dict(), \"models/ngram\")"
   ],
   "metadata": {
    "collapsed": false,
    "ExecuteTime": {
     "end_time": "2024-02-24T14:17:20.061506Z",
     "start_time": "2024-02-24T14:17:05.015513200Z"
    }
   },
   "id": "175255aaf40252be",
   "execution_count": 35
  },
  {
   "cell_type": "code",
   "outputs": [
    {
     "data": {
      "text/plain": "NGramLM(\n  (embedding): Embedding(75272, 100)\n  (fc1): Linear(in_features=1500, out_features=4096, bias=True)\n  (batch_norm): BatchNorm1d(4096, eps=1e-05, momentum=0.1, affine=True, track_running_stats=True)\n  (dropout): Dropout(p=0.4, inplace=False)\n  (fc2): Linear(in_features=4096, out_features=75272, bias=True)\n  (softmax): LogSoftmax(dim=1)\n)"
     },
     "execution_count": 37,
     "metadata": {},
     "output_type": "execute_result"
    }
   ],
   "source": [
    "best_model.load_state_dict(torch.load(\"models/ngram\"))\n",
    "best_model.eval()"
   ],
   "metadata": {
    "collapsed": false,
    "ExecuteTime": {
     "end_time": "2024-02-24T14:17:42.833533100Z",
     "start_time": "2024-02-24T14:17:41.083863500Z"
    }
   },
   "id": "6e96e7cfa582af38",
   "execution_count": 37
  },
  {
   "cell_type": "code",
   "outputs": [],
   "source": [
    "def predict(text: str, model: NGramLM) -> List[str]:\n",
    "    global main_vocab\n",
    "    for p in punct:\n",
    "        text = text.replace(p, f\" {p} \")\n",
    "    \n",
    "    input_tokens = [main_vocab[word] if word in main_vocab else 0 for word in text.split()]\n",
    "    input_tensor = torch.tensor([input_tokens + [0] * (STR_LEN - len(input_tokens))], dtype=torch.long, device=DEVICE)\n",
    "    probs = model(input_tensor)\n",
    "    word_id = torch.argmax(probs, dim=1)\n",
    "    return text + f\" {main_vocab.lookup_token(word_id)}\""
   ],
   "metadata": {
    "collapsed": false,
    "ExecuteTime": {
     "end_time": "2024-02-24T14:21:48.134198100Z",
     "start_time": "2024-02-24T14:21:48.128165200Z"
    }
   },
   "id": "4667843ae7c37ae1",
   "execution_count": 47
  },
  {
   "cell_type": "code",
   "outputs": [],
   "source": [
    "predictions = []\n",
    "\n",
    "with torch.no_grad():\n",
    "    for sample in test_df:\n",
    "        output = predict(sample, best_model)\n",
    "        predictions.append(output)"
   ],
   "metadata": {
    "collapsed": false,
    "ExecuteTime": {
     "end_time": "2024-02-24T14:22:55.363666400Z",
     "start_time": "2024-02-24T14:21:49.051478600Z"
    }
   },
   "id": "61fdf812d7fc9945",
   "execution_count": 48
  },
  {
   "cell_type": "code",
   "outputs": [],
   "source": [
    "ids = pd.read_csv(\"data/test.csv\")[\"id\"]"
   ],
   "metadata": {
    "collapsed": false,
    "ExecuteTime": {
     "end_time": "2024-02-24T14:26:39.153363700Z",
     "start_time": "2024-02-24T14:26:39.115055100Z"
    }
   },
   "id": "622f97e06708b11b",
   "execution_count": 51
  },
  {
   "cell_type": "code",
   "outputs": [],
   "source": [
    "output_df = pd.DataFrame({\"id\": ids, \"prediction\": predictions})\n",
    "output_df.to_csv(\"data/submission.csv\", index=False)"
   ],
   "metadata": {
    "collapsed": false,
    "ExecuteTime": {
     "end_time": "2024-02-24T14:26:44.013657Z",
     "start_time": "2024-02-24T14:26:43.962472900Z"
    }
   },
   "id": "535faae110dbc186",
   "execution_count": 52
  }
 ],
 "metadata": {
  "kernelspec": {
   "display_name": "Python 3",
   "language": "python",
   "name": "python3"
  },
  "language_info": {
   "codemirror_mode": {
    "name": "ipython",
    "version": 2
   },
   "file_extension": ".py",
   "mimetype": "text/x-python",
   "name": "python",
   "nbconvert_exporter": "python",
   "pygments_lexer": "ipython2",
   "version": "2.7.6"
  }
 },
 "nbformat": 4,
 "nbformat_minor": 5
}
