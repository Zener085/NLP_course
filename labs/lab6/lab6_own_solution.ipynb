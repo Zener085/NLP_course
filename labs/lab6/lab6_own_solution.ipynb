{
 "cells": [
  {
   "cell_type": "markdown",
   "source": [
    "## Competition\n",
    "\n",
    "[Competition](https://www.kaggle.com/t/18595a086f0346969b9cf443604ef801)\n",
    "\n",
    "> Your task is to classify medical transcription into types of medical speciality with use of dependency parsing."
   ],
   "metadata": {
    "collapsed": false
   },
   "id": "14e0d820eff758d0"
  },
  {
   "cell_type": "code",
   "outputs": [],
   "source": [
    "import pandas as pd\n",
    "import spacy\n",
    "\n",
    "from sklearn.model_selection import train_test_split\n",
    "from sklearn.naive_bayes import MultinomialNB\n",
    "from sklearn.metrics import f1_score"
   ],
   "metadata": {
    "collapsed": false,
    "ExecuteTime": {
     "end_time": "2024-03-04T08:40:29.176512Z",
     "start_time": "2024-03-04T08:40:29.170333Z"
    }
   },
   "id": "e1f226e851f58b1e",
   "execution_count": 43
  },
  {
   "cell_type": "code",
   "outputs": [
    {
     "data": {
      "text/plain": "   id            medical_specialty  \\\n0   0   Cardiovascular / Pulmonary   \n1   1             General Medicine   \n2   2   Cardiovascular / Pulmonary   \n3   3             General Medicine   \n4   4   Cardiovascular / Pulmonary   \n\n                                       transcription  \n0  PREOPERATIVE DIAGNOSIS: , Persistent pneumonia...  \n1  REASON FOR VISIT: , Mr. ABC is a 30-year-old m...  \n2  REASON FOR CONSULTATION: , Mesothelioma.,HISTO...  \n3  DISCHARGE DIAGNOSES:,1. Chronic obstructive pu...  \n4  CHIEF COMPLAINT:, The patient complains of che...  ",
      "text/html": "<div>\n<style scoped>\n    .dataframe tbody tr th:only-of-type {\n        vertical-align: middle;\n    }\n\n    .dataframe tbody tr th {\n        vertical-align: top;\n    }\n\n    .dataframe thead th {\n        text-align: right;\n    }\n</style>\n<table border=\"1\" class=\"dataframe\">\n  <thead>\n    <tr style=\"text-align: right;\">\n      <th></th>\n      <th>id</th>\n      <th>medical_specialty</th>\n      <th>transcription</th>\n    </tr>\n  </thead>\n  <tbody>\n    <tr>\n      <th>0</th>\n      <td>0</td>\n      <td>Cardiovascular / Pulmonary</td>\n      <td>PREOPERATIVE DIAGNOSIS: , Persistent pneumonia...</td>\n    </tr>\n    <tr>\n      <th>1</th>\n      <td>1</td>\n      <td>General Medicine</td>\n      <td>REASON FOR VISIT: , Mr. ABC is a 30-year-old m...</td>\n    </tr>\n    <tr>\n      <th>2</th>\n      <td>2</td>\n      <td>Cardiovascular / Pulmonary</td>\n      <td>REASON FOR CONSULTATION: , Mesothelioma.,HISTO...</td>\n    </tr>\n    <tr>\n      <th>3</th>\n      <td>3</td>\n      <td>General Medicine</td>\n      <td>DISCHARGE DIAGNOSES:,1. Chronic obstructive pu...</td>\n    </tr>\n    <tr>\n      <th>4</th>\n      <td>4</td>\n      <td>Cardiovascular / Pulmonary</td>\n      <td>CHIEF COMPLAINT:, The patient complains of che...</td>\n    </tr>\n  </tbody>\n</table>\n</div>"
     },
     "execution_count": 44,
     "metadata": {},
     "output_type": "execute_result"
    }
   ],
   "source": [
    "data_path = \"data\"\n",
    "\n",
    "df = pd.read_csv(f\"{data_path}/train.csv\")\n",
    "df.head()"
   ],
   "metadata": {
    "collapsed": false,
    "ExecuteTime": {
     "end_time": "2024-03-04T08:40:29.388968Z",
     "start_time": "2024-03-04T08:40:29.304506Z"
    }
   },
   "id": "e40e9cd97c6f553",
   "execution_count": 44
  },
  {
   "cell_type": "code",
   "outputs": [
    {
     "data": {
      "text/plain": "id                    0\nmedical_specialty     0\ntranscription        18\ndtype: int64"
     },
     "execution_count": 45,
     "metadata": {},
     "output_type": "execute_result"
    }
   ],
   "source": [
    "df.isna().sum()"
   ],
   "metadata": {
    "collapsed": false,
    "ExecuteTime": {
     "end_time": "2024-03-04T08:40:29.401963Z",
     "start_time": "2024-03-04T08:40:29.392962Z"
    }
   },
   "id": "b8684342bfdb0777",
   "execution_count": 45
  },
  {
   "cell_type": "code",
   "outputs": [],
   "source": [
    "df.dropna(inplace=True)"
   ],
   "metadata": {
    "collapsed": false,
    "ExecuteTime": {
     "end_time": "2024-03-04T08:40:29.413486Z",
     "start_time": "2024-03-04T08:40:29.404964Z"
    }
   },
   "id": "eae764f8dc026285",
   "execution_count": 46
  },
  {
   "cell_type": "markdown",
   "source": [
    "I guess I've seen this dataset"
   ],
   "metadata": {
    "collapsed": false
   },
   "id": "e0938789a8ab3df1"
  },
  {
   "cell_type": "code",
   "outputs": [
    {
     "data": {
      "text/plain": "' Cardiovascular / Pulmonary'"
     },
     "execution_count": 47,
     "metadata": {},
     "output_type": "execute_result"
    }
   ],
   "source": [
    "df[\"medical_specialty\"].tolist()[0]"
   ],
   "metadata": {
    "collapsed": false,
    "ExecuteTime": {
     "end_time": "2024-03-04T08:40:29.444384Z",
     "start_time": "2024-03-04T08:40:29.436486Z"
    }
   },
   "id": "4fb062fb5676405c",
   "execution_count": 47
  },
  {
   "cell_type": "code",
   "outputs": [],
   "source": [
    "def remove_space(row: str) -> str:\n",
    "    return row[1:]\n",
    "\n",
    "\n",
    "df[\"medical_specialty\"] = df[\"medical_specialty\"].apply(remove_space)"
   ],
   "metadata": {
    "collapsed": false,
    "ExecuteTime": {
     "end_time": "2024-03-04T08:40:29.485085Z",
     "start_time": "2024-03-04T08:40:29.477378Z"
    }
   },
   "id": "1719a095cae27ee",
   "execution_count": 48
  },
  {
   "cell_type": "code",
   "outputs": [],
   "source": [
    "CLASS_ID_TO_NAME = {\n",
    "    0: \"Cardiovascular / Pulmonary\",\n",
    "    1: \"Consult - History and Phy.\",\n",
    "    2: \"Gastroenterology\",\n",
    "    3: \"General Medicine\",\n",
    "    4: \"Surgery\"\n",
    "}\n",
    "NAME_TO_CLASS_ID = {v: k for k, v in CLASS_ID_TO_NAME.items()}"
   ],
   "metadata": {
    "collapsed": false,
    "ExecuteTime": {
     "end_time": "2024-03-04T08:40:29.545006Z",
     "start_time": "2024-03-04T08:40:29.539080Z"
    }
   },
   "id": "abe75d9bc3319c33",
   "execution_count": 49
  },
  {
   "cell_type": "code",
   "outputs": [],
   "source": [
    "def preprocess(__y: str) -> int:\n",
    "    return NAME_TO_CLASS_ID[__y]\n",
    "\n",
    "\n",
    "x, y = df[\"transcription\"], df[\"medical_specialty\"]\n",
    "y = y.apply(preprocess)\n",
    "x_train, x_val, y_train, y_val = train_test_split(x, y, test_size=0.2)"
   ],
   "metadata": {
    "collapsed": false,
    "ExecuteTime": {
     "end_time": "2024-03-04T08:40:29.721004Z",
     "start_time": "2024-03-04T08:40:29.708002Z"
    }
   },
   "id": "5ea40e9cfd69b153",
   "execution_count": 50
  },
  {
   "cell_type": "code",
   "outputs": [],
   "source": [
    "nlp = spacy.load(\"en_core_web_lg\")\n",
    "clf = MultinomialNB()\n",
    "\n",
    "\n",
    "def extract_features(doc):\n",
    "    features = {}\n",
    "    for token in doc:\n",
    "        for child in token.children:\n",
    "            dep = child.dep_\n",
    "            if dep not in features:\n",
    "                features[dep] = 0\n",
    "            features[dep] += 1\n",
    "    return features"
   ],
   "metadata": {
    "collapsed": false,
    "ExecuteTime": {
     "end_time": "2024-03-04T08:40:32.432298Z",
     "start_time": "2024-03-04T08:40:29.728004Z"
    }
   },
   "id": "22db31ba4b0b3529",
   "execution_count": 51
  },
  {
   "cell_type": "code",
   "outputs": [
    {
     "data": {
      "text/plain": "0.4351898102495605"
     },
     "execution_count": 52,
     "metadata": {},
     "output_type": "execute_result"
    }
   ],
   "source": [
    "x_train_vectorized = pd.DataFrame([extract_features(nlp(text)) for text in x_train])\n",
    "x_val_vectorized = pd.DataFrame([extract_features(nlp(text)) for text in x_val])\n",
    "x_val_vectorized = x_val_vectorized.reindex(columns=x_train_vectorized.columns)\n",
    "\n",
    "x_train_vectorized.fillna(0, inplace=True)\n",
    "x_val_vectorized.fillna(0, inplace=True)\n",
    "\n",
    "clf.fit(x_train_vectorized, y_train)\n",
    "\n",
    "y_pred = clf.predict(x_val_vectorized)\n",
    "f1_score(y_val, y_pred, average=\"macro\")"
   ],
   "metadata": {
    "collapsed": false,
    "ExecuteTime": {
     "end_time": "2024-03-04T08:43:22.645768Z",
     "start_time": "2024-03-04T08:40:32.433241Z"
    }
   },
   "id": "f38d91e12ada8160",
   "execution_count": 52
  },
  {
   "cell_type": "code",
   "outputs": [
    {
     "data": {
      "text/plain": "MultinomialNB()",
      "text/html": "<style>#sk-container-id-2 {color: black;background-color: white;}#sk-container-id-2 pre{padding: 0;}#sk-container-id-2 div.sk-toggleable {background-color: white;}#sk-container-id-2 label.sk-toggleable__label {cursor: pointer;display: block;width: 100%;margin-bottom: 0;padding: 0.3em;box-sizing: border-box;text-align: center;}#sk-container-id-2 label.sk-toggleable__label-arrow:before {content: \"▸\";float: left;margin-right: 0.25em;color: #696969;}#sk-container-id-2 label.sk-toggleable__label-arrow:hover:before {color: black;}#sk-container-id-2 div.sk-estimator:hover label.sk-toggleable__label-arrow:before {color: black;}#sk-container-id-2 div.sk-toggleable__content {max-height: 0;max-width: 0;overflow: hidden;text-align: left;background-color: #f0f8ff;}#sk-container-id-2 div.sk-toggleable__content pre {margin: 0.2em;color: black;border-radius: 0.25em;background-color: #f0f8ff;}#sk-container-id-2 input.sk-toggleable__control:checked~div.sk-toggleable__content {max-height: 200px;max-width: 100%;overflow: auto;}#sk-container-id-2 input.sk-toggleable__control:checked~label.sk-toggleable__label-arrow:before {content: \"▾\";}#sk-container-id-2 div.sk-estimator input.sk-toggleable__control:checked~label.sk-toggleable__label {background-color: #d4ebff;}#sk-container-id-2 div.sk-label input.sk-toggleable__control:checked~label.sk-toggleable__label {background-color: #d4ebff;}#sk-container-id-2 input.sk-hidden--visually {border: 0;clip: rect(1px 1px 1px 1px);clip: rect(1px, 1px, 1px, 1px);height: 1px;margin: -1px;overflow: hidden;padding: 0;position: absolute;width: 1px;}#sk-container-id-2 div.sk-estimator {font-family: monospace;background-color: #f0f8ff;border: 1px dotted black;border-radius: 0.25em;box-sizing: border-box;margin-bottom: 0.5em;}#sk-container-id-2 div.sk-estimator:hover {background-color: #d4ebff;}#sk-container-id-2 div.sk-parallel-item::after {content: \"\";width: 100%;border-bottom: 1px solid gray;flex-grow: 1;}#sk-container-id-2 div.sk-label:hover label.sk-toggleable__label {background-color: #d4ebff;}#sk-container-id-2 div.sk-serial::before {content: \"\";position: absolute;border-left: 1px solid gray;box-sizing: border-box;top: 0;bottom: 0;left: 50%;z-index: 0;}#sk-container-id-2 div.sk-serial {display: flex;flex-direction: column;align-items: center;background-color: white;padding-right: 0.2em;padding-left: 0.2em;position: relative;}#sk-container-id-2 div.sk-item {position: relative;z-index: 1;}#sk-container-id-2 div.sk-parallel {display: flex;align-items: stretch;justify-content: center;background-color: white;position: relative;}#sk-container-id-2 div.sk-item::before, #sk-container-id-2 div.sk-parallel-item::before {content: \"\";position: absolute;border-left: 1px solid gray;box-sizing: border-box;top: 0;bottom: 0;left: 50%;z-index: -1;}#sk-container-id-2 div.sk-parallel-item {display: flex;flex-direction: column;z-index: 1;position: relative;background-color: white;}#sk-container-id-2 div.sk-parallel-item:first-child::after {align-self: flex-end;width: 50%;}#sk-container-id-2 div.sk-parallel-item:last-child::after {align-self: flex-start;width: 50%;}#sk-container-id-2 div.sk-parallel-item:only-child::after {width: 0;}#sk-container-id-2 div.sk-dashed-wrapped {border: 1px dashed gray;margin: 0 0.4em 0.5em 0.4em;box-sizing: border-box;padding-bottom: 0.4em;background-color: white;}#sk-container-id-2 div.sk-label label {font-family: monospace;font-weight: bold;display: inline-block;line-height: 1.2em;}#sk-container-id-2 div.sk-label-container {text-align: center;}#sk-container-id-2 div.sk-container {/* jupyter's `normalize.less` sets `[hidden] { display: none; }` but bootstrap.min.css set `[hidden] { display: none !important; }` so we also need the `!important` here to be able to override the default hidden behavior on the sphinx rendered scikit-learn.org. See: https://github.com/scikit-learn/scikit-learn/issues/21755 */display: inline-block !important;position: relative;}#sk-container-id-2 div.sk-text-repr-fallback {display: none;}</style><div id=\"sk-container-id-2\" class=\"sk-top-container\"><div class=\"sk-text-repr-fallback\"><pre>MultinomialNB()</pre><b>In a Jupyter environment, please rerun this cell to show the HTML representation or trust the notebook. <br />On GitHub, the HTML representation is unable to render, please try loading this page with nbviewer.org.</b></div><div class=\"sk-container\" hidden><div class=\"sk-item\"><div class=\"sk-estimator sk-toggleable\"><input class=\"sk-toggleable__control sk-hidden--visually\" id=\"sk-estimator-id-2\" type=\"checkbox\" checked><label for=\"sk-estimator-id-2\" class=\"sk-toggleable__label sk-toggleable__label-arrow\">MultinomialNB</label><div class=\"sk-toggleable__content\"><pre>MultinomialNB()</pre></div></div></div></div></div>"
     },
     "execution_count": 53,
     "metadata": {},
     "output_type": "execute_result"
    }
   ],
   "source": [
    "nlp = spacy.load(\"en_core_web_lg\")\n",
    "clf = MultinomialNB()\n",
    "\n",
    "x_vectorized = pd.DataFrame([extract_features(nlp(text)) for text in x])\n",
    "x_vectorized.fillna(0, inplace=True)\n",
    "clf.fit(x_vectorized, y)"
   ],
   "metadata": {
    "collapsed": false,
    "ExecuteTime": {
     "end_time": "2024-03-04T08:46:20.374859Z",
     "start_time": "2024-03-04T08:43:22.647768Z"
    }
   },
   "id": "73c752ad12f93e46",
   "execution_count": 53
  },
  {
   "cell_type": "code",
   "outputs": [
    {
     "data": {
      "text/plain": "   id                                      transcription\n0   0  INDICATIONS FOR PROCEDURE:, The patient has pr...\n1   1  CLINICAL HISTORY: ,This 78-year-old black woma...\n2   2  PREOPERATIVE DIAGNOSIS: , Penoscrotal abscess....\n3   3  INDICATIONS:,  Ischemic cardiomyopathy, status...\n4   4  PREOPERATIVE DIAGNOSIS: , Ruptured distal bice...",
      "text/html": "<div>\n<style scoped>\n    .dataframe tbody tr th:only-of-type {\n        vertical-align: middle;\n    }\n\n    .dataframe tbody tr th {\n        vertical-align: top;\n    }\n\n    .dataframe thead th {\n        text-align: right;\n    }\n</style>\n<table border=\"1\" class=\"dataframe\">\n  <thead>\n    <tr style=\"text-align: right;\">\n      <th></th>\n      <th>id</th>\n      <th>transcription</th>\n    </tr>\n  </thead>\n  <tbody>\n    <tr>\n      <th>0</th>\n      <td>0</td>\n      <td>INDICATIONS FOR PROCEDURE:, The patient has pr...</td>\n    </tr>\n    <tr>\n      <th>1</th>\n      <td>1</td>\n      <td>CLINICAL HISTORY: ,This 78-year-old black woma...</td>\n    </tr>\n    <tr>\n      <th>2</th>\n      <td>2</td>\n      <td>PREOPERATIVE DIAGNOSIS: , Penoscrotal abscess....</td>\n    </tr>\n    <tr>\n      <th>3</th>\n      <td>3</td>\n      <td>INDICATIONS:,  Ischemic cardiomyopathy, status...</td>\n    </tr>\n    <tr>\n      <th>4</th>\n      <td>4</td>\n      <td>PREOPERATIVE DIAGNOSIS: , Ruptured distal bice...</td>\n    </tr>\n  </tbody>\n</table>\n</div>"
     },
     "execution_count": 54,
     "metadata": {},
     "output_type": "execute_result"
    }
   ],
   "source": [
    "test_df = pd.read_csv(f\"{data_path}/test.csv\")\n",
    "test_df.head()"
   ],
   "metadata": {
    "collapsed": false,
    "ExecuteTime": {
     "end_time": "2024-03-04T08:46:20.417993Z",
     "start_time": "2024-03-04T08:46:20.376856Z"
    }
   },
   "id": "f61b2d595e9d6227",
   "execution_count": 54
  },
  {
   "cell_type": "code",
   "outputs": [],
   "source": [
    "x_test_vectorized = pd.DataFrame([extract_features(nlp(text)) for text in test_df[\"transcription\"]])\n",
    "x_test_vectorized.fillna(0, inplace=True)\n",
    "x_test_vectorized = x_test_vectorized.reindex(columns=x_vectorized.columns)\n",
    "\n",
    "y_test = clf.predict(x_test_vectorized)"
   ],
   "metadata": {
    "collapsed": false,
    "ExecuteTime": {
     "end_time": "2024-03-04T08:47:04.837617Z",
     "start_time": "2024-03-04T08:46:20.422992Z"
    }
   },
   "id": "6e3bb228ae12aa91",
   "execution_count": 55
  },
  {
   "cell_type": "code",
   "outputs": [],
   "source": [
    "submission_data = pd.DataFrame({\"id\": range(len(y_test)), \"class_id\": y_test})\n",
    "submission_data.to_csv(\"submission.csv\", index=False)"
   ],
   "metadata": {
    "collapsed": false,
    "ExecuteTime": {
     "end_time": "2024-03-04T08:47:04.846787Z",
     "start_time": "2024-03-04T08:47:04.839612Z"
    }
   },
   "id": "b44b2d493f8e420a",
   "execution_count": 56
  }
 ],
 "metadata": {
  "kernelspec": {
   "display_name": "Python 3",
   "language": "python",
   "name": "python3"
  },
  "language_info": {
   "codemirror_mode": {
    "name": "ipython",
    "version": 2
   },
   "file_extension": ".py",
   "mimetype": "text/x-python",
   "name": "python",
   "nbconvert_exporter": "python",
   "pygments_lexer": "ipython2",
   "version": "2.7.6"
  }
 },
 "nbformat": 4,
 "nbformat_minor": 5
}
