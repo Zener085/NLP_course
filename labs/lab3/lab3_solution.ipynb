{
 "cells": [
  {
   "cell_type": "code",
   "execution_count": 1,
   "id": "initial_id",
   "metadata": {
    "collapsed": true,
    "ExecuteTime": {
     "end_time": "2024-02-08T14:13:38.460270300Z",
     "start_time": "2024-02-08T14:13:28.931957600Z"
    }
   },
   "outputs": [],
   "source": [
    "import pandas as pd\n",
    "import numpy as np\n",
    "import spacy\n",
    "import re\n",
    "\n",
    "from sklearn.model_selection import train_test_split\n",
    "from spacy.training.example import Example\n",
    "from spacy.tokens import Doc\n",
    "from tqdm import tqdm"
   ]
  },
  {
   "cell_type": "code",
   "outputs": [],
   "source": [
    "df = pd.read_csv(\"data/train.csv\")\n",
    "test_df = pd.read_csv(\"data/test.csv\")"
   ],
   "metadata": {
    "collapsed": false,
    "ExecuteTime": {
     "end_time": "2024-02-08T14:13:38.499326500Z",
     "start_time": "2024-02-08T14:13:38.449288400Z"
    }
   },
   "id": "f30d92f157f36f15",
   "execution_count": 2
  },
  {
   "cell_type": "code",
   "outputs": [
    {
     "data": {
      "text/plain": "                                              tokens  \\\n0  4 cloves garlic 2 cups cooked corned beef -LRB...   \n1  2 tablespoons vegetable oil , divided 1 1/2 cu...   \n2  2 tablespoons dried marjoram 3 tablespoons pac...   \n3  1 large red onion , 1/4-inch slices pulled int...   \n4  2 jalapeno peppers , seeded and minced 1/2 - 3...   \n\n                          labels  \n0        3 7 1 3 7 5 5 1 2 2 2 2  \n1            3 7 1 1 2 5 3 7 5 1  \n2              3 7 0 1 3 7 5 1 1  \n3  3 4 1 1 2 2 2 2 2 2 3 7 1 2 5  \n4    3 1 1 2 5 2 5 3 2 2 7 5 1 1  ",
      "text/html": "<div>\n<style scoped>\n    .dataframe tbody tr th:only-of-type {\n        vertical-align: middle;\n    }\n\n    .dataframe tbody tr th {\n        vertical-align: top;\n    }\n\n    .dataframe thead th {\n        text-align: right;\n    }\n</style>\n<table border=\"1\" class=\"dataframe\">\n  <thead>\n    <tr style=\"text-align: right;\">\n      <th></th>\n      <th>tokens</th>\n      <th>labels</th>\n    </tr>\n  </thead>\n  <tbody>\n    <tr>\n      <th>0</th>\n      <td>4 cloves garlic 2 cups cooked corned beef -LRB...</td>\n      <td>3 7 1 3 7 5 5 1 2 2 2 2</td>\n    </tr>\n    <tr>\n      <th>1</th>\n      <td>2 tablespoons vegetable oil , divided 1 1/2 cu...</td>\n      <td>3 7 1 1 2 5 3 7 5 1</td>\n    </tr>\n    <tr>\n      <th>2</th>\n      <td>2 tablespoons dried marjoram 3 tablespoons pac...</td>\n      <td>3 7 0 1 3 7 5 1 1</td>\n    </tr>\n    <tr>\n      <th>3</th>\n      <td>1 large red onion , 1/4-inch slices pulled int...</td>\n      <td>3 4 1 1 2 2 2 2 2 2 3 7 1 2 5</td>\n    </tr>\n    <tr>\n      <th>4</th>\n      <td>2 jalapeno peppers , seeded and minced 1/2 - 3...</td>\n      <td>3 1 1 2 5 2 5 3 2 2 7 5 1 1</td>\n    </tr>\n  </tbody>\n</table>\n</div>"
     },
     "execution_count": 3,
     "metadata": {},
     "output_type": "execute_result"
    }
   ],
   "source": [
    "df.head()"
   ],
   "metadata": {
    "collapsed": false,
    "ExecuteTime": {
     "end_time": "2024-02-08T14:13:38.504313300Z",
     "start_time": "2024-02-08T14:13:38.475274600Z"
    }
   },
   "id": "b0ea0f8884e156c6",
   "execution_count": 3
  },
  {
   "cell_type": "markdown",
   "source": [
    "There are some unreadable characters in the text. We have to remove them"
   ],
   "metadata": {
    "collapsed": false
   },
   "id": "449bf4576f075508"
  },
  {
   "cell_type": "code",
   "outputs": [
    {
     "data": {
      "text/plain": "'2 tablespoons vegetable oil , divided 1\\xa01/2 cups chopped pecans'"
     },
     "execution_count": 4,
     "metadata": {},
     "output_type": "execute_result"
    }
   ],
   "source": [
    "df[\"tokens\"][1]"
   ],
   "metadata": {
    "collapsed": false,
    "ExecuteTime": {
     "end_time": "2024-02-08T14:13:38.517333300Z",
     "start_time": "2024-02-08T14:13:38.491314600Z"
    }
   },
   "id": "79d7675da4d2f2ad",
   "execution_count": 4
  },
  {
   "cell_type": "code",
   "outputs": [
    {
     "data": {
      "text/plain": "                                                 tokens  \\\n1     2 tablespoons vegetable oil , divided 1 1/2 cu...   \n43    1 1/2 teaspoons red pepper flakes 2 teaspoons ...   \n48    8 ounces sliced Swiss cheese 1 1/2 teaspoons c...   \n62    1 1/2 pounds lean ground beef 1 cup fresh gold...   \n67    1 1/2 tablespoons arrowroot powder , or as des...   \n...                                                 ...   \n5111                           1 1/2 cups boiling water   \n5115                      2 1/2 teaspoons baking powder   \n5118  1 1/4 ounces old el paso taco spicy taco seaso...   \n5134                        1 1/2 teaspoons baking soda   \n5140                        1 1/4 teaspoons baking soda   \n\n                               labels  \n1                 3 7 1 1 2 5 3 7 5 1  \n43              3 7 1 1 1 3 7 0 1 2 5  \n48    3 7 5 1 1 3 7 5 0 1 2 2 2 2 2 2  \n62      3 7 5 5 1 3 7 0 1 1 2 2 2 2 1  \n67    3 7 1 1 2 2 2 2 3 1 1 2 5 2 2 2  \n...                               ...  \n5111                          3 7 5 1  \n5115                          3 7 1 1  \n5118                3 7 2 2 2 1 2 1 1  \n5134                          3 7 1 1  \n5140                          3 7 1 1  \n\n[358 rows x 2 columns]",
      "text/html": "<div>\n<style scoped>\n    .dataframe tbody tr th:only-of-type {\n        vertical-align: middle;\n    }\n\n    .dataframe tbody tr th {\n        vertical-align: top;\n    }\n\n    .dataframe thead th {\n        text-align: right;\n    }\n</style>\n<table border=\"1\" class=\"dataframe\">\n  <thead>\n    <tr style=\"text-align: right;\">\n      <th></th>\n      <th>tokens</th>\n      <th>labels</th>\n    </tr>\n  </thead>\n  <tbody>\n    <tr>\n      <th>1</th>\n      <td>2 tablespoons vegetable oil , divided 1 1/2 cu...</td>\n      <td>3 7 1 1 2 5 3 7 5 1</td>\n    </tr>\n    <tr>\n      <th>43</th>\n      <td>1 1/2 teaspoons red pepper flakes 2 teaspoons ...</td>\n      <td>3 7 1 1 1 3 7 0 1 2 5</td>\n    </tr>\n    <tr>\n      <th>48</th>\n      <td>8 ounces sliced Swiss cheese 1 1/2 teaspoons c...</td>\n      <td>3 7 5 1 1 3 7 5 0 1 2 2 2 2 2 2</td>\n    </tr>\n    <tr>\n      <th>62</th>\n      <td>1 1/2 pounds lean ground beef 1 cup fresh gold...</td>\n      <td>3 7 5 5 1 3 7 0 1 1 2 2 2 2 1</td>\n    </tr>\n    <tr>\n      <th>67</th>\n      <td>1 1/2 tablespoons arrowroot powder , or as des...</td>\n      <td>3 7 1 1 2 2 2 2 3 1 1 2 5 2 2 2</td>\n    </tr>\n    <tr>\n      <th>...</th>\n      <td>...</td>\n      <td>...</td>\n    </tr>\n    <tr>\n      <th>5111</th>\n      <td>1 1/2 cups boiling water</td>\n      <td>3 7 5 1</td>\n    </tr>\n    <tr>\n      <th>5115</th>\n      <td>2 1/2 teaspoons baking powder</td>\n      <td>3 7 1 1</td>\n    </tr>\n    <tr>\n      <th>5118</th>\n      <td>1 1/4 ounces old el paso taco spicy taco seaso...</td>\n      <td>3 7 2 2 2 1 2 1 1</td>\n    </tr>\n    <tr>\n      <th>5134</th>\n      <td>1 1/2 teaspoons baking soda</td>\n      <td>3 7 1 1</td>\n    </tr>\n    <tr>\n      <th>5140</th>\n      <td>1 1/4 teaspoons baking soda</td>\n      <td>3 7 1 1</td>\n    </tr>\n  </tbody>\n</table>\n<p>358 rows × 2 columns</p>\n</div>"
     },
     "execution_count": 5,
     "metadata": {},
     "output_type": "execute_result"
    }
   ],
   "source": [
    "df[df[\"tokens\"].str.contains(\"\\xa0\")]"
   ],
   "metadata": {
    "collapsed": false,
    "ExecuteTime": {
     "end_time": "2024-02-08T14:13:38.596605800Z",
     "start_time": "2024-02-08T14:13:38.504313300Z"
    }
   },
   "id": "71ad0832bc778545",
   "execution_count": 5
  },
  {
   "cell_type": "markdown",
   "source": [
    "Before this char there is also unnecessary number, which must be removed also. "
   ],
   "metadata": {
    "collapsed": false
   },
   "id": "7cfe0aa79f3168c2"
  },
  {
   "cell_type": "code",
   "outputs": [],
   "source": [
    "def clear_num_char(__text: str):\n",
    "    return re.sub(r\"\\d\\xa0\", \"\", __text)"
   ],
   "metadata": {
    "collapsed": false,
    "ExecuteTime": {
     "end_time": "2024-02-08T14:13:38.641016800Z",
     "start_time": "2024-02-08T14:13:38.527753600Z"
    }
   },
   "id": "9f4a1e566c0b2b87",
   "execution_count": 6
  },
  {
   "cell_type": "code",
   "outputs": [],
   "source": [
    "df[\"tokens\"] = df[\"tokens\"].apply(clear_num_char)"
   ],
   "metadata": {
    "collapsed": false,
    "ExecuteTime": {
     "end_time": "2024-02-08T14:13:38.694750500Z",
     "start_time": "2024-02-08T14:13:38.542810800Z"
    }
   },
   "id": "354af52074ebe35",
   "execution_count": 7
  },
  {
   "cell_type": "code",
   "outputs": [
    {
     "data": {
      "text/plain": "                                              tokens  \\\n0  4 cloves garlic 2 cups cooked corned beef -LRB...   \n1  2 tablespoons vegetable oil , divided 1/2 cups...   \n2  2 tablespoons dried marjoram 3 tablespoons pac...   \n3  1 large red onion , 1/4-inch slices pulled int...   \n4  2 jalapeno peppers , seeded and minced 1/2 - 3...   \n\n                          labels  \n0        3 7 1 3 7 5 5 1 2 2 2 2  \n1            3 7 1 1 2 5 3 7 5 1  \n2              3 7 0 1 3 7 5 1 1  \n3  3 4 1 1 2 2 2 2 2 2 3 7 1 2 5  \n4    3 1 1 2 5 2 5 3 2 2 7 5 1 1  ",
      "text/html": "<div>\n<style scoped>\n    .dataframe tbody tr th:only-of-type {\n        vertical-align: middle;\n    }\n\n    .dataframe tbody tr th {\n        vertical-align: top;\n    }\n\n    .dataframe thead th {\n        text-align: right;\n    }\n</style>\n<table border=\"1\" class=\"dataframe\">\n  <thead>\n    <tr style=\"text-align: right;\">\n      <th></th>\n      <th>tokens</th>\n      <th>labels</th>\n    </tr>\n  </thead>\n  <tbody>\n    <tr>\n      <th>0</th>\n      <td>4 cloves garlic 2 cups cooked corned beef -LRB...</td>\n      <td>3 7 1 3 7 5 5 1 2 2 2 2</td>\n    </tr>\n    <tr>\n      <th>1</th>\n      <td>2 tablespoons vegetable oil , divided 1/2 cups...</td>\n      <td>3 7 1 1 2 5 3 7 5 1</td>\n    </tr>\n    <tr>\n      <th>2</th>\n      <td>2 tablespoons dried marjoram 3 tablespoons pac...</td>\n      <td>3 7 0 1 3 7 5 1 1</td>\n    </tr>\n    <tr>\n      <th>3</th>\n      <td>1 large red onion , 1/4-inch slices pulled int...</td>\n      <td>3 4 1 1 2 2 2 2 2 2 3 7 1 2 5</td>\n    </tr>\n    <tr>\n      <th>4</th>\n      <td>2 jalapeno peppers , seeded and minced 1/2 - 3...</td>\n      <td>3 1 1 2 5 2 5 3 2 2 7 5 1 1</td>\n    </tr>\n  </tbody>\n</table>\n</div>"
     },
     "execution_count": 8,
     "metadata": {},
     "output_type": "execute_result"
    }
   ],
   "source": [
    "df.head()"
   ],
   "metadata": {
    "collapsed": false,
    "ExecuteTime": {
     "end_time": "2024-02-08T14:13:38.696750800Z",
     "start_time": "2024-02-08T14:13:38.574730300Z"
    }
   },
   "id": "26796c53ac029792",
   "execution_count": 8
  },
  {
   "cell_type": "code",
   "outputs": [
    {
     "data": {
      "text/plain": "                                                 tokens  \\\n3823  saffron , alioli see \"<a href=\"\"https://www.ge...   \n4842  1 teaspoon ras el hanout spice mix , \"<a href=...   \n4847  1/2 cup enchilada sauce , I use Texas Red Ench...   \n\n                                 labels  \n3823                    1 2 1 2 2 2 2 2  \n4842  3 7 1 1 1 1 1 2 2 2 2 2 2 2 2 2 2  \n4847  3 7 1 1 2 2 2 2 2 2 2 2 2 2 2 2 2  ",
      "text/html": "<div>\n<style scoped>\n    .dataframe tbody tr th:only-of-type {\n        vertical-align: middle;\n    }\n\n    .dataframe tbody tr th {\n        vertical-align: top;\n    }\n\n    .dataframe thead th {\n        text-align: right;\n    }\n</style>\n<table border=\"1\" class=\"dataframe\">\n  <thead>\n    <tr style=\"text-align: right;\">\n      <th></th>\n      <th>tokens</th>\n      <th>labels</th>\n    </tr>\n  </thead>\n  <tbody>\n    <tr>\n      <th>3823</th>\n      <td>saffron , alioli see \"&lt;a href=\"\"https://www.ge...</td>\n      <td>1 2 1 2 2 2 2 2</td>\n    </tr>\n    <tr>\n      <th>4842</th>\n      <td>1 teaspoon ras el hanout spice mix , \"&lt;a href=...</td>\n      <td>3 7 1 1 1 1 1 2 2 2 2 2 2 2 2 2 2</td>\n    </tr>\n    <tr>\n      <th>4847</th>\n      <td>1/2 cup enchilada sauce , I use Texas Red Ench...</td>\n      <td>3 7 1 1 2 2 2 2 2 2 2 2 2 2 2 2 2</td>\n    </tr>\n  </tbody>\n</table>\n</div>"
     },
     "execution_count": 9,
     "metadata": {},
     "output_type": "execute_result"
    }
   ],
   "source": [
    "df[df[\"tokens\"].str.contains(\"\\xa0\")]"
   ],
   "metadata": {
    "collapsed": false,
    "ExecuteTime": {
     "end_time": "2024-02-08T14:13:38.759799200Z",
     "start_time": "2024-02-08T14:13:38.589607700Z"
    }
   },
   "id": "b1ba0fab637ec9d5",
   "execution_count": 9
  },
  {
   "cell_type": "code",
   "outputs": [
    {
     "name": "stdout",
     "output_type": "stream",
     "text": [
      "False\n",
      "True\n"
     ]
    }
   ],
   "source": [
    "print(len(df[\"tokens\"][3823].split()) == len(df[\"labels\"][3823].split()))\n",
    "print(len(df[\"tokens\"][3823].split()) - 1 == len(df[\"labels\"][3823].split()))"
   ],
   "metadata": {
    "collapsed": false,
    "ExecuteTime": {
     "end_time": "2024-02-08T14:13:38.792138500Z",
     "start_time": "2024-02-08T14:13:38.619610400Z"
    }
   },
   "id": "aaffde05ee16d3f9",
   "execution_count": 10
  },
  {
   "cell_type": "code",
   "outputs": [
    {
     "data": {
      "text/plain": "['saffron',\n ',',\n 'alioli',\n 'see',\n '\"<a',\n 'href=\"\"https://www.geniuskitchen.com/recipe/saffron-alioli-369693\"\">\"',\n 'Saffron',\n 'Alioli',\n '</a>']"
     },
     "execution_count": 11,
     "metadata": {},
     "output_type": "execute_result"
    }
   ],
   "source": [
    "df[\"tokens\"][3823].split()"
   ],
   "metadata": {
    "collapsed": false,
    "ExecuteTime": {
     "end_time": "2024-02-08T14:13:38.835138800Z",
     "start_time": "2024-02-08T14:13:38.637019300Z"
    }
   },
   "id": "3cd9694edb2025a7",
   "execution_count": 11
  },
  {
   "cell_type": "markdown",
   "source": [
    "So here the link must be saved as `ahref`, so I'll remove the char."
   ],
   "metadata": {
    "collapsed": false
   },
   "id": "263407ac77d2da02"
  },
  {
   "cell_type": "code",
   "outputs": [],
   "source": [
    "def fix_links(__text: str):\n",
    "    return __text.replace(\"\\xa0\", \"\")\n",
    "df[\"tokens\"] = df[\"tokens\"].apply(fix_links)"
   ],
   "metadata": {
    "collapsed": false,
    "ExecuteTime": {
     "end_time": "2024-02-08T14:13:38.837140600Z",
     "start_time": "2024-02-08T14:13:38.658040Z"
    }
   },
   "id": "ca69d0d8ac89aee0",
   "execution_count": 12
  },
  {
   "cell_type": "code",
   "outputs": [
    {
     "data": {
      "text/plain": "                                              tokens  \\\n0  4 cloves garlic 2 cups cooked corned beef -LRB...   \n1  2 tablespoons vegetable oil , divided 1/2 cups...   \n2  2 tablespoons dried marjoram 3 tablespoons pac...   \n3  1 large red onion , 1/4-inch slices pulled int...   \n4  2 jalapeno peppers , seeded and minced 1/2 - 3...   \n\n                          labels  \n0        3 7 1 3 7 5 5 1 2 2 2 2  \n1            3 7 1 1 2 5 3 7 5 1  \n2              3 7 0 1 3 7 5 1 1  \n3  3 4 1 1 2 2 2 2 2 2 3 7 1 2 5  \n4    3 1 1 2 5 2 5 3 2 2 7 5 1 1  ",
      "text/html": "<div>\n<style scoped>\n    .dataframe tbody tr th:only-of-type {\n        vertical-align: middle;\n    }\n\n    .dataframe tbody tr th {\n        vertical-align: top;\n    }\n\n    .dataframe thead th {\n        text-align: right;\n    }\n</style>\n<table border=\"1\" class=\"dataframe\">\n  <thead>\n    <tr style=\"text-align: right;\">\n      <th></th>\n      <th>tokens</th>\n      <th>labels</th>\n    </tr>\n  </thead>\n  <tbody>\n    <tr>\n      <th>0</th>\n      <td>4 cloves garlic 2 cups cooked corned beef -LRB...</td>\n      <td>3 7 1 3 7 5 5 1 2 2 2 2</td>\n    </tr>\n    <tr>\n      <th>1</th>\n      <td>2 tablespoons vegetable oil , divided 1/2 cups...</td>\n      <td>3 7 1 1 2 5 3 7 5 1</td>\n    </tr>\n    <tr>\n      <th>2</th>\n      <td>2 tablespoons dried marjoram 3 tablespoons pac...</td>\n      <td>3 7 0 1 3 7 5 1 1</td>\n    </tr>\n    <tr>\n      <th>3</th>\n      <td>1 large red onion , 1/4-inch slices pulled int...</td>\n      <td>3 4 1 1 2 2 2 2 2 2 3 7 1 2 5</td>\n    </tr>\n    <tr>\n      <th>4</th>\n      <td>2 jalapeno peppers , seeded and minced 1/2 - 3...</td>\n      <td>3 1 1 2 5 2 5 3 2 2 7 5 1 1</td>\n    </tr>\n  </tbody>\n</table>\n</div>"
     },
     "execution_count": 13,
     "metadata": {},
     "output_type": "execute_result"
    }
   ],
   "source": [
    "df.head()"
   ],
   "metadata": {
    "collapsed": false,
    "ExecuteTime": {
     "end_time": "2024-02-08T14:13:38.951137800Z",
     "start_time": "2024-02-08T14:13:38.669462900Z"
    }
   },
   "id": "ca60ab29193e701e",
   "execution_count": 13
  },
  {
   "cell_type": "code",
   "outputs": [
    {
     "data": {
      "text/plain": "Empty DataFrame\nColumns: [tokens, labels]\nIndex: []",
      "text/html": "<div>\n<style scoped>\n    .dataframe tbody tr th:only-of-type {\n        vertical-align: middle;\n    }\n\n    .dataframe tbody tr th {\n        vertical-align: top;\n    }\n\n    .dataframe thead th {\n        text-align: right;\n    }\n</style>\n<table border=\"1\" class=\"dataframe\">\n  <thead>\n    <tr style=\"text-align: right;\">\n      <th></th>\n      <th>tokens</th>\n      <th>labels</th>\n    </tr>\n  </thead>\n  <tbody>\n  </tbody>\n</table>\n</div>"
     },
     "execution_count": 14,
     "metadata": {},
     "output_type": "execute_result"
    }
   ],
   "source": [
    "df[df[\"tokens\"].str.contains(\"\\xa0\")]"
   ],
   "metadata": {
    "collapsed": false,
    "ExecuteTime": {
     "end_time": "2024-02-08T14:13:38.985140300Z",
     "start_time": "2024-02-08T14:13:38.691753200Z"
    }
   },
   "id": "30e296b1051c1f8e",
   "execution_count": 14
  },
  {
   "cell_type": "markdown",
   "source": [
    "Now I'm going to preprocess the data"
   ],
   "metadata": {
    "collapsed": false
   },
   "id": "7346347ff657c0ab"
  },
  {
   "cell_type": "code",
   "outputs": [],
   "source": [
    "train_df, val_df = train_test_split(df, test_size=0.2)"
   ],
   "metadata": {
    "collapsed": false,
    "ExecuteTime": {
     "end_time": "2024-02-08T14:13:38.986141300Z",
     "start_time": "2024-02-08T14:13:38.714755800Z"
    }
   },
   "id": "440ae3617dd223ad",
   "execution_count": 15
  },
  {
   "cell_type": "code",
   "outputs": [
    {
     "name": "stdout",
     "output_type": "stream",
     "text": [
      "['2', 'cans', 'vegetable', 'soup', '-LRB-']\n",
      "['3', '7', '1', '1', '2']\n",
      "['1', 'pinch', 'powdered', 'sugar', '2']\n",
      "['3', '7', '5', '1', '3']\n"
     ]
    }
   ],
   "source": [
    "train_x, train_y, val_x, val_y = [], [], [], []\n",
    "\n",
    "\n",
    "def train_connect_text(__text: str):\n",
    "    train_x.extend(__text.split())\n",
    "\n",
    "\n",
    "def train_connect_labels(__text: str):\n",
    "    train_y.extend(__text.split())\n",
    "\n",
    "\n",
    "def val_connect_text(__text: str):\n",
    "    val_x.extend(__text.split())\n",
    "\n",
    "\n",
    "def val_connect_labels(__text: str):\n",
    "    val_y.extend(__text.split())\n",
    "\n",
    "\n",
    "train_df[\"tokens\"].apply(train_connect_text)\n",
    "train_df[\"labels\"].apply(train_connect_labels)\n",
    "val_df[\"tokens\"].apply(val_connect_text)\n",
    "val_df[\"labels\"].apply(val_connect_labels)\n",
    "\n",
    "print(train_x[:5])\n",
    "print(train_y[:5])\n",
    "print(val_x[:5])\n",
    "print(val_y[:5])"
   ],
   "metadata": {
    "collapsed": false,
    "ExecuteTime": {
     "end_time": "2024-02-08T14:13:38.987139700Z",
     "start_time": "2024-02-08T14:13:38.727751700Z"
    }
   },
   "id": "8d3b6c2b0e38b4bb",
   "execution_count": 16
  },
  {
   "cell_type": "code",
   "outputs": [
    {
     "name": "stdout",
     "output_type": "stream",
     "text": [
      "['2', 'cans', 'vegetable', 'soup', '-LRB-']\n",
      "[(0, 1, '3'), (0, 4, '7'), (0, 9, '1'), (0, 4, '1'), (0, 5, '2')]\n",
      "['1', 'pinch', 'powdered', 'sugar', '2']\n",
      "[(0, 1, '3'), (0, 5, '7'), (0, 8, '5'), (0, 5, '1'), (0, 1, '3')]\n"
     ]
    }
   ],
   "source": [
    "def label_to_annotation(x: list[str], y: list[str]):\n",
    "    for i in range(len(y)):\n",
    "        y[i] = (0, len(x[i]), y[i])\n",
    "\n",
    "label_to_annotation(train_x, train_y)\n",
    "label_to_annotation(val_x, val_y)\n",
    "\n",
    "print(train_x[:5])\n",
    "print(train_y[:5])\n",
    "print(val_x[:5])\n",
    "print(val_y[:5])"
   ],
   "metadata": {
    "collapsed": false,
    "ExecuteTime": {
     "end_time": "2024-02-08T14:13:39.006141800Z",
     "start_time": "2024-02-08T14:13:38.754798300Z"
    }
   },
   "id": "8492354444e695fe",
   "execution_count": 17
  },
  {
   "cell_type": "markdown",
   "source": [
    "Creating batch function and then I'll create the model"
   ],
   "metadata": {
    "collapsed": false
   },
   "id": "5b5f15888c06a05d"
  },
  {
   "cell_type": "code",
   "outputs": [],
   "source": [
    "def batch(__x: list[str], __y: list[str], __batch_size):\n",
    "    _data = list(zip(__x, __y))\n",
    "    np.random.shuffle(_data)\n",
    "    _i = 0\n",
    "    for _i in range(0, len(_data), __batch_size):\n",
    "        yield _data[_i:_i + __batch_size]\n",
    "    return _data[max(_i - __batch_size, 0):]       "
   ],
   "metadata": {
    "collapsed": false,
    "ExecuteTime": {
     "end_time": "2024-02-08T14:13:39.007141400Z",
     "start_time": "2024-02-08T14:13:38.774794200Z"
    }
   },
   "id": "70d56b6950eeefca",
   "execution_count": 18
  },
  {
   "cell_type": "markdown",
   "source": [
    "Time to create a model"
   ],
   "metadata": {
    "collapsed": false
   },
   "id": "e2d47e4d8d248dd1"
  },
  {
   "cell_type": "code",
   "outputs": [],
   "source": [
    "nlp = spacy.blank(\"en\")\n",
    "ner = nlp.add_pipe(\"ner\")\n",
    "\n",
    "for label in range(8):\n",
    "    ner.add_label(str(label))"
   ],
   "metadata": {
    "collapsed": false,
    "ExecuteTime": {
     "end_time": "2024-02-08T14:28:22.725046500Z",
     "start_time": "2024-02-08T14:28:22.518384300Z"
    }
   },
   "id": "f10c84a1b7e4ff8b",
   "execution_count": 41
  },
  {
   "cell_type": "code",
   "outputs": [],
   "source": [
    "def train(model, epochs: int, batch_size: int):\n",
    "    global train_x, train_y\n",
    "    optimizer = model.initialize()\n",
    "    for epoch in range(epochs):\n",
    "        print(f\"Epoch {epoch}:\")\n",
    "        losses = {}\n",
    "        for data in batch(train_x, train_y, batch_size):\n",
    "            texts, annotations = zip(*data)\n",
    "            examples = []\n",
    "            for text, annotation in zip(texts, annotations):\n",
    "                doc = model.make_doc(text)\n",
    "                examples.append(Example.from_dict(doc, {\"entities\": [annotation]}))\n",
    "            model.update(examples, drop=0.5, losses=losses, sgd=optimizer)\n",
    "        print(\"Losses:\", losses)\n",
    "nlp.to_disk(\"models\")"
   ],
   "metadata": {
    "collapsed": false,
    "ExecuteTime": {
     "end_time": "2024-02-08T14:13:39.846068300Z",
     "start_time": "2024-02-08T14:13:39.732071900Z"
    }
   },
   "id": "e6aa9ecabaaa88ff",
   "execution_count": 20
  },
  {
   "cell_type": "code",
   "outputs": [],
   "source": [
    "def evaluate_model(model):\n",
    "    global val_x, val_y\n",
    "    correct = 0\n",
    "    total = 0\n",
    "    for data in batch(val_x, val_y, 1):\n",
    "        texts, annotations = zip(*data)\n",
    "        text, annotation = texts[0], annotations[0]\n",
    "        doc = model(text)\n",
    "        predicted_label = doc.ents[0].label_\n",
    "        correct += predicted_label == annotation[2]\n",
    "        total += 1\n",
    "    return correct / total"
   ],
   "metadata": {
    "collapsed": false,
    "ExecuteTime": {
     "end_time": "2024-02-08T14:13:39.848069900Z",
     "start_time": "2024-02-08T14:13:39.817070600Z"
    }
   },
   "id": "66d98639cd28d746",
   "execution_count": 21
  },
  {
   "cell_type": "code",
   "outputs": [
    {
     "name": "stdout",
     "output_type": "stream",
     "text": [
      "Epoch 0:\n",
      "Losses: {'ner': 11067.769801578968}\n",
      "Epoch 1:\n",
      "Losses: {'ner': 5665.237514648402}\n",
      "Epoch 2:\n",
      "Losses: {'ner': 4833.058099232272}\n",
      "Epoch 3:\n",
      "Losses: {'ner': 4456.385325006955}\n",
      "Epoch 4:\n",
      "Losses: {'ner': 4225.9804881538585}\n",
      "Epoch 5:\n",
      "Losses: {'ner': 4023.7435695889008}\n",
      "Epoch 6:\n",
      "Losses: {'ner': 3884.497302424301}\n",
      "Epoch 7:\n",
      "Losses: {'ner': 3638.856255480705}\n",
      "Epoch 8:\n",
      "Losses: {'ner': 3676.1573499465394}\n",
      "Epoch 9:\n",
      "Losses: {'ner': 3593.01719938979}\n",
      "Epoch 10:\n",
      "Losses: {'ner': 3423.6866722714294}\n",
      "Epoch 11:\n",
      "Losses: {'ner': 3422.1707415789206}\n",
      "Epoch 12:\n",
      "Losses: {'ner': 3331.6046294342345}\n",
      "Epoch 13:\n",
      "Losses: {'ner': 3291.706777409881}\n",
      "Epoch 14:\n",
      "Losses: {'ner': 3248.8432998341123}\n",
      "Epoch 15:\n",
      "Losses: {'ner': 3244.9766602895043}\n",
      "Epoch 16:\n",
      "Losses: {'ner': 3227.500167608355}\n",
      "Epoch 17:\n",
      "Losses: {'ner': 3163.457614370689}\n",
      "Epoch 18:\n",
      "Losses: {'ner': 3131.942563111891}\n",
      "Epoch 19:\n",
      "Losses: {'ner': 3114.943016557646}\n"
     ]
    }
   ],
   "source": [
    "train(nlp, 20, 64)"
   ],
   "metadata": {
    "collapsed": false,
    "ExecuteTime": {
     "end_time": "2024-02-08T14:39:58.190127700Z",
     "start_time": "2024-02-08T14:28:28.458211500Z"
    }
   },
   "id": "3162e9b486955b98",
   "execution_count": 42
  },
  {
   "cell_type": "code",
   "outputs": [
    {
     "name": "stdout",
     "output_type": "stream",
     "text": [
      "Model Accuracy: 92.47%\n"
     ]
    }
   ],
   "source": [
    "accuracy = evaluate_model(nlp)\n",
    "print(f\"Model Accuracy: {round(accuracy * 100, 2)}%\")"
   ],
   "metadata": {
    "collapsed": false,
    "ExecuteTime": {
     "end_time": "2024-02-08T14:47:05.136315700Z",
     "start_time": "2024-02-08T14:46:47.542766600Z"
    }
   },
   "id": "f33b8985ab2fe3e4",
   "execution_count": 43
  },
  {
   "cell_type": "code",
   "outputs": [
    {
     "data": {
      "text/plain": "   id  token\n0   0    1/2\n1   1  large\n2   2  sweet\n3   3    red\n4   4  onion",
      "text/html": "<div>\n<style scoped>\n    .dataframe tbody tr th:only-of-type {\n        vertical-align: middle;\n    }\n\n    .dataframe tbody tr th {\n        vertical-align: top;\n    }\n\n    .dataframe thead th {\n        text-align: right;\n    }\n</style>\n<table border=\"1\" class=\"dataframe\">\n  <thead>\n    <tr style=\"text-align: right;\">\n      <th></th>\n      <th>id</th>\n      <th>token</th>\n    </tr>\n  </thead>\n  <tbody>\n    <tr>\n      <th>0</th>\n      <td>0</td>\n      <td>1/2</td>\n    </tr>\n    <tr>\n      <th>1</th>\n      <td>1</td>\n      <td>large</td>\n    </tr>\n    <tr>\n      <th>2</th>\n      <td>2</td>\n      <td>sweet</td>\n    </tr>\n    <tr>\n      <th>3</th>\n      <td>3</td>\n      <td>red</td>\n    </tr>\n    <tr>\n      <th>4</th>\n      <td>4</td>\n      <td>onion</td>\n    </tr>\n  </tbody>\n</table>\n</div>"
     },
     "execution_count": 44,
     "metadata": {},
     "output_type": "execute_result"
    }
   ],
   "source": [
    "test_df.head()"
   ],
   "metadata": {
    "collapsed": false,
    "ExecuteTime": {
     "end_time": "2024-02-08T14:47:05.140299900Z",
     "start_time": "2024-02-08T14:47:05.135162900Z"
    }
   },
   "id": "46b154c03e9d8df9",
   "execution_count": 44
  },
  {
   "cell_type": "code",
   "outputs": [],
   "source": [
    "test_x = test_df[\"token\"].tolist()\n",
    "test_y = []"
   ],
   "metadata": {
    "collapsed": false,
    "ExecuteTime": {
     "end_time": "2024-02-08T14:47:05.191828100Z",
     "start_time": "2024-02-08T14:47:05.140299900Z"
    }
   },
   "id": "f44ea784351a26ad",
   "execution_count": 45
  },
  {
   "cell_type": "code",
   "outputs": [],
   "source": [
    "for text in test_x:\n",
    "    ents = nlp(text).ents\n",
    "    label = ents[0].label_\n",
    "    test_y.append(label)"
   ],
   "metadata": {
    "collapsed": false,
    "ExecuteTime": {
     "end_time": "2024-02-08T14:47:34.504220400Z",
     "start_time": "2024-02-08T14:47:05.155826600Z"
    }
   },
   "id": "2f762bdef34b0891",
   "execution_count": 46
  },
  {
   "cell_type": "code",
   "outputs": [],
   "source": [
    "with open(\"submission.csv\", \"w\") as f:\n",
    "    f.write(\"id,count\\n\")\n",
    "    for i, label in enumerate(test_y):\n",
    "        f.write(f\"{i},{label}\\n\")"
   ],
   "metadata": {
    "collapsed": false,
    "ExecuteTime": {
     "end_time": "2024-02-08T14:48:31.153804700Z",
     "start_time": "2024-02-08T14:48:31.121486100Z"
    }
   },
   "id": "9a8819fc282aa93e",
   "execution_count": 48
  }
 ],
 "metadata": {
  "kernelspec": {
   "display_name": "Python 3",
   "language": "python",
   "name": "python3"
  },
  "language_info": {
   "codemirror_mode": {
    "name": "ipython",
    "version": 2
   },
   "file_extension": ".py",
   "mimetype": "text/x-python",
   "name": "python",
   "nbconvert_exporter": "python",
   "pygments_lexer": "ipython2",
   "version": "2.7.6"
  }
 },
 "nbformat": 4,
 "nbformat_minor": 5
}
