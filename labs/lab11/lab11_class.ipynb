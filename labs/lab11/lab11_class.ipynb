{
 "cells": [
  {
   "cell_type": "markdown",
   "id": "8e9189df",
   "metadata": {
    "papermill": {
     "duration": 0.008842,
     "end_time": "2024-03-29T12:52:30.230002",
     "exception": false,
     "start_time": "2024-03-29T12:52:30.221160",
     "status": "completed"
    },
    "tags": []
   },
   "source": [
    "# NLP. Week 11. RNN with attention for translation\n"
   ]
  },
  {
   "attachments": {
    "decoder-network.png": {
     "image/png": "[encoded data removed]"
    },
    "encoder-network.png": {
     "image/png": "[encoded data removed]"
    }
   },
   "cell_type": "markdown",
   "id": "5a290e15",
   "metadata": {},
   "source": [
    "## RNN for Seq2Seq\n",
    "\n",
    "Seq2Seq model or Sequence-to-Sequence model, is a machine learning architecture designed for tasks involving sequential data. It takes an input sequence, processes it, and generates an output sequence.\n",
    "\n",
    "### Advantages of seq2seq Models\n",
    "\n",
    "- Flexibility\n",
    "- Handling sequential data\n",
    "- Handling context\n",
    "- Attention mechanism\n",
    "\n",
    "### Disadvantages of seq2seq Models\n",
    "\n",
    "- Computationally expensive\n",
    "- Limited interpretability\n",
    "- Overfitting\n",
    "- Handling rare words\n",
    "- Handling long input sequences\n",
    "\n",
    "### Applications of Seq2Seq model\n",
    "\n",
    "- Translation\n",
    "- Text Summarization\n",
    "- Speech Recognition\n",
    "- Image Captioning\n",
    "\n",
    "## Encoder decoder for translation\n",
    "\n",
    "Encoder Decoder network, is a model consisting of two RNNs called the encoder and decoder. The encoder reads an input sequence and outputs a single vector, and the decoder reads that vector to produce an output sequence. With a seq2seq model the encoder creates a single vector which, in the ideal case, encodes the “meaning” of the input sequence into a single vector — a single point in some N dimensional space of sentences. Unlike sequence prediction with a single RNN, where every input corresponds to an output, the seq2seq model frees us from sequence length and order, which makes it ideal for translation between two languages.\n",
    "\n",
    "### Encoder\n",
    "\n",
    "The encoder of a seq2seq network is a RNN that outputs some value for every word from the input sentence. For every input word the encoder outputs a vector and a hidden state, and uses the hidden state for the next input word.\n",
    "\n",
    "![encoder-network.png](attachment:encoder-network.png)\n",
    "\n",
    "### Decoder\n",
    "\n",
    "The decoder is another RNN that takes the encoder output vector(s) and outputs a sequence of words to create the translation.\n",
    "\n",
    "In the simplest seq2seq decoder we use only last output of the encoder. This last output is sometimes called the context vector as it encodes context from the entire sequence. This context vector is used as the initial hidden state of the decoder.\n",
    "\n",
    "At every step of decoding, the decoder is given an input token and hidden state. The initial input token is the start-of-string `<SOS>` token, and the first hidden state is the context vector (the encoder’s last hidden state).\n",
    "\n",
    "![decoder-network.png](attachment:decoder-network.png)\n",
    "\n",
    "## Attention\n",
    "\n",
    "Attention allows the decoder network to “focus” on a different part of the encoder’s outputs for every step of the decoder’s own outputs. First we calculate a set of attention weights. These will be multiplied by the encoder output vectors to create a weighted combination. The result should contain information about that specific part of the input sequence, and thus help the decoder choose the right output words.\n",
    "\n",
    "Bahdanau attention, also known as additive attention, is a commonly used attention mechanism in sequence-to-sequence models, particularly in neural machine translation tasks. It was introduced by Bahdanau et al. in their paper titled Neural Machine Translation by Jointly Learning to Align and Translate. This attention mechanism employs a learned alignment model to compute attention scores between the encoder and decoder hidden states. It utilizes a feed-forward neural network to calculate alignment scores.\n",
    "\n",
    "However, there are alternative attention mechanisms available, such as Luong attention, which computes attention scores by taking the dot product between the decoder hidden state and the encoder hidden states. It does not involve the non-linear transformation used in Bahdanau attention.\n"
   ]
  },
  {
   "cell_type": "markdown",
   "id": "4ac32c50",
   "metadata": {
    "papermill": {
     "duration": 0.007997,
     "end_time": "2024-03-29T12:52:30.246243",
     "exception": false,
     "start_time": "2024-03-29T12:52:30.238246",
     "status": "completed"
    },
    "tags": []
   },
   "source": [
    "### Loading the data\n"
   ]
  },
  {
   "cell_type": "code",
   "execution_count": 1,
   "id": "58ec3503",
   "metadata": {
    "execution": {
     "iopub.execute_input": "2024-03-29T12:52:30.265389Z",
     "iopub.status.busy": "2024-03-29T12:52:30.264881Z",
     "iopub.status.idle": "2024-03-29T12:52:31.765524Z",
     "shell.execute_reply": "2024-03-29T12:52:31.764543Z"
    },
    "papermill": {
     "duration": 1.513593,
     "end_time": "2024-03-29T12:52:31.767956",
     "exception": false,
     "start_time": "2024-03-29T12:52:30.254363",
     "status": "completed"
    },
    "tags": []
   },
   "outputs": [
    {
     "data": {
      "text/html": [
       "<div>\n",
       "<style scoped>\n",
       "    .dataframe tbody tr th:only-of-type {\n",
       "        vertical-align: middle;\n",
       "    }\n",
       "\n",
       "    .dataframe tbody tr th {\n",
       "        vertical-align: top;\n",
       "    }\n",
       "\n",
       "    .dataframe thead th {\n",
       "        text-align: right;\n",
       "    }\n",
       "</style>\n",
       "<table border=\"1\" class=\"dataframe\">\n",
       "  <thead>\n",
       "    <tr style=\"text-align: right;\">\n",
       "      <th></th>\n",
       "      <th>EN</th>\n",
       "      <th>PR</th>\n",
       "    </tr>\n",
       "  </thead>\n",
       "  <tbody>\n",
       "    <tr>\n",
       "      <th>0</th>\n",
       "      <td>Go.</td>\n",
       "      <td>Vai.</td>\n",
       "    </tr>\n",
       "    <tr>\n",
       "      <th>1</th>\n",
       "      <td>Go.</td>\n",
       "      <td>Vá.</td>\n",
       "    </tr>\n",
       "    <tr>\n",
       "      <th>2</th>\n",
       "      <td>Hi.</td>\n",
       "      <td>Oi.</td>\n",
       "    </tr>\n",
       "    <tr>\n",
       "      <th>3</th>\n",
       "      <td>Run!</td>\n",
       "      <td>Corre!</td>\n",
       "    </tr>\n",
       "    <tr>\n",
       "      <th>4</th>\n",
       "      <td>Run!</td>\n",
       "      <td>Corra!</td>\n",
       "    </tr>\n",
       "  </tbody>\n",
       "</table>\n",
       "</div>"
      ],
      "text/plain": [
       "     EN      PR\n",
       "0   Go.    Vai.\n",
       "1   Go.     Vá.\n",
       "2   Hi.     Oi.\n",
       "3  Run!  Corre!\n",
       "4  Run!  Corra!"
      ]
     },
     "execution_count": 1,
     "metadata": {},
     "output_type": "execute_result"
    }
   ],
   "source": [
    "import pandas as pd\n",
    "\n",
    "train_df = pd.read_csv(\n",
    "    \"/kaggle/input/englishportuguese-translation/por.txt\",\n",
    "    sep=\"\\t\",\n",
    "    usecols=[0, 1],\n",
    "    names=[\"EN\", \"PR\"],\n",
    ")\n",
    "train_df.head()"
   ]
  },
  {
   "cell_type": "markdown",
   "id": "8095f538",
   "metadata": {
    "papermill": {
     "duration": 0.008308,
     "end_time": "2024-03-29T12:52:31.785677",
     "exception": false,
     "start_time": "2024-03-29T12:52:31.777369",
     "status": "completed"
    },
    "tags": []
   },
   "source": [
    "### Preprocess\n"
   ]
  },
  {
   "cell_type": "code",
   "execution_count": 2,
   "id": "81110bbf",
   "metadata": {
    "execution": {
     "iopub.execute_input": "2024-03-29T12:52:31.803689Z",
     "iopub.status.busy": "2024-03-29T12:52:31.803409Z",
     "iopub.status.idle": "2024-03-29T12:52:31.809203Z",
     "shell.execute_reply": "2024-03-29T12:52:31.808363Z"
    },
    "papermill": {
     "duration": 0.017183,
     "end_time": "2024-03-29T12:52:31.811143",
     "exception": false,
     "start_time": "2024-03-29T12:52:31.793960",
     "status": "completed"
    },
    "tags": []
   },
   "outputs": [],
   "source": [
    "import unicodedata\n",
    "import re\n",
    "\n",
    "\n",
    "def unicode2ascii(s):\n",
    "    return \"\".join(\n",
    "        c for c in unicodedata.normalize(\"NFD\", s) if unicodedata.category(c) != \"Mn\"\n",
    "    )\n",
    "\n",
    "\n",
    "def normalize_string(s):\n",
    "    s = unicode2ascii(s.lower().strip())\n",
    "    s = re.sub(r\"([.!?])\", r\" \\1\", s)\n",
    "    s = re.sub(r\"[^a-zA-Z!?]+\", r\" \", s)\n",
    "    return s.strip()"
   ]
  },
  {
   "cell_type": "code",
   "execution_count": 3,
   "id": "18eb5f77",
   "metadata": {
    "execution": {
     "iopub.execute_input": "2024-03-29T12:52:31.829966Z",
     "iopub.status.busy": "2024-03-29T12:52:31.829687Z",
     "iopub.status.idle": "2024-03-29T12:52:31.844470Z",
     "shell.execute_reply": "2024-03-29T12:52:31.843817Z"
    },
    "papermill": {
     "duration": 0.027012,
     "end_time": "2024-03-29T12:52:31.846439",
     "exception": false,
     "start_time": "2024-03-29T12:52:31.819427",
     "status": "completed"
    },
    "tags": []
   },
   "outputs": [],
   "source": [
    "from tqdm import tqdm\n",
    "\n",
    "\n",
    "def preprocess(texts):\n",
    "    for text in tqdm(texts, desc=\"Building vocab\"):\n",
    "        tokens = normalize_string(str(text)).split()\n",
    "        yield tokens"
   ]
  },
  {
   "cell_type": "markdown",
   "id": "320d4add",
   "metadata": {
    "papermill": {
     "duration": 0.008017,
     "end_time": "2024-03-29T12:52:31.862813",
     "exception": false,
     "start_time": "2024-03-29T12:52:31.854796",
     "status": "completed"
    },
    "tags": []
   },
   "source": [
    "### Create vocabs\n"
   ]
  },
  {
   "cell_type": "code",
   "execution_count": 4,
   "id": "b70f74b2",
   "metadata": {
    "execution": {
     "iopub.execute_input": "2024-03-29T12:52:31.880311Z",
     "iopub.status.busy": "2024-03-29T12:52:31.880028Z",
     "iopub.status.idle": "2024-03-29T12:52:46.398253Z",
     "shell.execute_reply": "2024-03-29T12:52:46.396996Z"
    },
    "papermill": {
     "duration": 14.529311,
     "end_time": "2024-03-29T12:52:46.400266",
     "exception": false,
     "start_time": "2024-03-29T12:52:31.870955",
     "status": "completed"
    },
    "tags": []
   },
   "outputs": [
    {
     "name": "stderr",
     "output_type": "stream",
     "text": [
      "Building vocab: 100%|██████████| 168903/168903 [00:04<00:00, 39251.91it/s]\n",
      "Building vocab: 100%|██████████| 168903/168903 [00:04<00:00, 35398.26it/s]\n"
     ]
    }
   ],
   "source": [
    "from torchtext.vocab import build_vocab_from_iterator\n",
    "\n",
    "SPECIAL_TOKENS = [\"<SOS>\", \"<EOS>\", \"<UNK>\", \"<PAD>\"]\n",
    "english_vocab = build_vocab_from_iterator(\n",
    "    preprocess(train_df[\"EN\"].values), special_first=True, specials=SPECIAL_TOKENS\n",
    ")\n",
    "\n",
    "port_vocab = build_vocab_from_iterator(\n",
    "    preprocess(train_df[\"PR\"].values), special_first=True, specials=SPECIAL_TOKENS\n",
    ")"
   ]
  },
  {
   "cell_type": "code",
   "execution_count": 5,
   "id": "391dfca0",
   "metadata": {
    "execution": {
     "iopub.execute_input": "2024-03-29T12:52:46.433119Z",
     "iopub.status.busy": "2024-03-29T12:52:46.432658Z",
     "iopub.status.idle": "2024-03-29T12:52:46.438393Z",
     "shell.execute_reply": "2024-03-29T12:52:46.437569Z"
    },
    "papermill": {
     "duration": 0.024177,
     "end_time": "2024-03-29T12:52:46.440557",
     "exception": false,
     "start_time": "2024-03-29T12:52:46.416380",
     "status": "completed"
    },
    "tags": []
   },
   "outputs": [
    {
     "name": "stdout",
     "output_type": "stream",
     "text": [
      "Length of english vocab: 12221\n",
      "Length of portugese vocab: 20582\n"
     ]
    }
   ],
   "source": [
    "print(\"Length of english vocab:\", len(english_vocab))\n",
    "print(\"Length of portugese vocab:\", len(port_vocab))"
   ]
  },
  {
   "cell_type": "code",
   "execution_count": 6,
   "id": "f09f18c4",
   "metadata": {
    "execution": {
     "iopub.execute_input": "2024-03-29T12:52:46.472780Z",
     "iopub.status.busy": "2024-03-29T12:52:46.472520Z",
     "iopub.status.idle": "2024-03-29T12:52:46.538584Z",
     "shell.execute_reply": "2024-03-29T12:52:46.537793Z"
    },
    "papermill": {
     "duration": 0.084565,
     "end_time": "2024-03-29T12:52:46.540590",
     "exception": false,
     "start_time": "2024-03-29T12:52:46.456025",
     "status": "completed"
    },
    "tags": []
   },
   "outputs": [],
   "source": [
    "import torch\n",
    "import numpy as np\n",
    "from torch.utils.data import TensorDataset, DataLoader\n",
    "\n",
    "device = torch.device(\"cuda\" if torch.cuda.is_available() else \"cpu\")\n",
    "SOS_TOKEN_IDX = english_vocab[\"<SOS>\"]\n",
    "EOS_TOKEN_IDX = english_vocab[\"<EOS>\"]\n",
    "MAX_LENGTH = 100\n",
    "\n",
    "\n",
    "def sentence2idxs(vocab, sentence):\n",
    "    tokens = normalize_string(str(sentence)).split(\" \")\n",
    "    return [vocab[word] if word in vocab else vocab[\"<UNK>\"] for word in tokens]\n",
    "\n",
    "\n",
    "def sentence2tensor(vocab, sentence):\n",
    "    indexes = sentence2idxs(vocab, sentence)\n",
    "    indexes.append(EOS_TOKEN_IDX)\n",
    "    return torch.tensor(indexes, dtype=torch.long, device=device).view(1, -1)\n",
    "\n",
    "\n",
    "def process_sentence(vocab, sentence):\n",
    "    idxs = sentence2idxs(vocab, sentence)\n",
    "    idxs.append(EOS_TOKEN_IDX)\n",
    "    return idxs\n",
    "\n",
    "\n",
    "def get_dataloader(\n",
    "    df, input_vocab, output_vocab, batch_size=64, in_column=\"EN\", out_column=\"PR\"\n",
    "):\n",
    "\n",
    "    n = len(df)\n",
    "    input_idxs = np.ones((n, MAX_LENGTH), dtype=np.int32) * input_vocab[\"<PAD>\"]\n",
    "    target_idxs = np.ones((n, MAX_LENGTH), dtype=np.int32) * output_vocab[\"<PAD>\"]\n",
    "\n",
    "    for idx, row in tqdm(df.iterrows(), total=n):\n",
    "        in_lang_idxs = process_sentence(input_vocab, row[in_column])\n",
    "        out_lang_idxs = process_sentence(output_vocab, row[out_column])\n",
    "\n",
    "        input_idxs[idx, : len(in_lang_idxs)] = in_lang_idxs\n",
    "        target_idxs[idx, : len(out_lang_idxs)] = out_lang_idxs\n",
    "\n",
    "    data = TensorDataset(\n",
    "        torch.LongTensor(input_idxs).to(device),\n",
    "        torch.LongTensor(target_idxs).to(device),\n",
    "    )\n",
    "\n",
    "    dataloader = DataLoader(data, batch_size=batch_size)\n",
    "    return dataloader"
   ]
  },
  {
   "cell_type": "markdown",
   "id": "5307a907",
   "metadata": {
    "papermill": {
     "duration": 0.015503,
     "end_time": "2024-03-29T12:52:46.571635",
     "exception": false,
     "start_time": "2024-03-29T12:52:46.556132",
     "status": "completed"
    },
    "tags": []
   },
   "source": [
    "### Encoder Decoder RNN Model\n"
   ]
  },
  {
   "cell_type": "code",
   "execution_count": 7,
   "id": "762233e4",
   "metadata": {
    "execution": {
     "iopub.execute_input": "2024-03-29T12:52:46.603816Z",
     "iopub.status.busy": "2024-03-29T12:52:46.603519Z",
     "iopub.status.idle": "2024-03-29T12:52:46.609915Z",
     "shell.execute_reply": "2024-03-29T12:52:46.609097Z"
    },
    "papermill": {
     "duration": 0.024427,
     "end_time": "2024-03-29T12:52:46.611755",
     "exception": false,
     "start_time": "2024-03-29T12:52:46.587328",
     "status": "completed"
    },
    "tags": []
   },
   "outputs": [],
   "source": [
    "import torch.nn as nn\n",
    "\n",
    "\n",
    "class EncoderRNN(nn.Module):\n",
    "    def __init__(self, input_size, hidden_size, dropout_p=0.1):\n",
    "        super(EncoderRNN, self).__init__()\n",
    "        self.hidden_size = hidden_size\n",
    "\n",
    "        self.embedding = nn.Embedding(input_size, hidden_size)\n",
    "        self.gru = nn.GRU(hidden_size, hidden_size, batch_first=True)\n",
    "        self.dropout = nn.Dropout(dropout_p)\n",
    "\n",
    "    def forward(self, input):\n",
    "        embedded = self.dropout(self.embedding(input))\n",
    "        output, hidden = self.gru(embedded)\n",
    "        return output, hidden"
   ]
  },
  {
   "cell_type": "code",
   "execution_count": 8,
   "id": "ebadd63f",
   "metadata": {
    "execution": {
     "iopub.execute_input": "2024-03-29T12:52:46.643526Z",
     "iopub.status.busy": "2024-03-29T12:52:46.643237Z",
     "iopub.status.idle": "2024-03-29T12:52:46.653478Z",
     "shell.execute_reply": "2024-03-29T12:52:46.652780Z"
    },
    "papermill": {
     "duration": 0.028431,
     "end_time": "2024-03-29T12:52:46.655328",
     "exception": false,
     "start_time": "2024-03-29T12:52:46.626897",
     "status": "completed"
    },
    "tags": []
   },
   "outputs": [],
   "source": [
    "import torch.nn.functional as F\n",
    "\n",
    "\n",
    "class DecoderRNN(nn.Module):\n",
    "    def __init__(self, hidden_size, output_size):\n",
    "        super(DecoderRNN, self).__init__()\n",
    "        self.embedding = nn.Embedding(output_size, hidden_size)\n",
    "        self.gru = nn.GRU(hidden_size, hidden_size, batch_first=True)\n",
    "        self.out = nn.Linear(hidden_size, output_size)\n",
    "\n",
    "    def forward(self, encoder_outputs, encoder_hidden, target_tensor=None):\n",
    "        batch_size = encoder_outputs.size(0)\n",
    "        decoder_input = torch.empty(\n",
    "            batch_size, 1, dtype=torch.long, device=device\n",
    "        ).fill_(SOS_TOKEN_IDX)\n",
    "        decoder_hidden = encoder_hidden\n",
    "        decoder_outputs = []\n",
    "\n",
    "        for i in range(MAX_LENGTH):\n",
    "            decoder_output, decoder_hidden = self.forward_step(\n",
    "                decoder_input, decoder_hidden\n",
    "            )\n",
    "            decoder_outputs.append(decoder_output)\n",
    "\n",
    "            if target_tensor is not None:\n",
    "                # Teacher forcing: Feed the target as the next input\n",
    "                decoder_input = target_tensor[:, i].unsqueeze(1)  # Teacher forcing\n",
    "            else:\n",
    "                # Without teacher forcing: use its own predictions as the next input\n",
    "                _, topi = decoder_output.topk(1)\n",
    "                decoder_input = topi.squeeze(\n",
    "                    -1\n",
    "                ).detach()  # detach from history as input\n",
    "\n",
    "        decoder_outputs = torch.cat(decoder_outputs, dim=1)\n",
    "        decoder_outputs = F.log_softmax(decoder_outputs, dim=-1)\n",
    "        return (\n",
    "            decoder_outputs,\n",
    "            decoder_hidden,\n",
    "            None,\n",
    "        )  # We return `None` for consistency in the training loop\n",
    "\n",
    "    def forward_step(self, input, hidden):\n",
    "        output = self.embedding(input)\n",
    "        output = F.relu(output)\n",
    "        output, hidden = self.gru(output, hidden)\n",
    "        output = self.out(output)\n",
    "        return output, hidden"
   ]
  },
  {
   "cell_type": "markdown",
   "id": "4cd5b559",
   "metadata": {
    "papermill": {
     "duration": 0.014932,
     "end_time": "2024-03-29T12:52:46.685598",
     "exception": false,
     "start_time": "2024-03-29T12:52:46.670666",
     "status": "completed"
    },
    "tags": []
   },
   "source": [
    "### Train\n"
   ]
  },
  {
   "cell_type": "code",
   "execution_count": 9,
   "id": "8cc4b9ac",
   "metadata": {
    "execution": {
     "iopub.execute_input": "2024-03-29T12:52:46.717304Z",
     "iopub.status.busy": "2024-03-29T12:52:46.717004Z",
     "iopub.status.idle": "2024-03-29T12:52:46.723383Z",
     "shell.execute_reply": "2024-03-29T12:52:46.722683Z"
    },
    "papermill": {
     "duration": 0.024185,
     "end_time": "2024-03-29T12:52:46.725146",
     "exception": false,
     "start_time": "2024-03-29T12:52:46.700961",
     "status": "completed"
    },
    "tags": []
   },
   "outputs": [],
   "source": [
    "def train_epoch(\n",
    "    dataloader, encoder, decoder, encoder_optimizer, decoder_optimizer, criterion\n",
    "):\n",
    "\n",
    "    total_loss = 0\n",
    "    for data in tqdm(dataloader):\n",
    "        input_tensor, target_tensor = data\n",
    "\n",
    "        encoder_optimizer.zero_grad()\n",
    "        decoder_optimizer.zero_grad()\n",
    "\n",
    "        encoder_outputs, encoder_hidden = encoder(input_tensor)\n",
    "        decoder_outputs, _, _ = decoder(encoder_outputs, encoder_hidden, target_tensor)\n",
    "\n",
    "        loss = criterion(\n",
    "            decoder_outputs.view(-1, decoder_outputs.size(-1)), target_tensor.view(-1)\n",
    "        )\n",
    "        loss.backward()\n",
    "\n",
    "        encoder_optimizer.step()\n",
    "        decoder_optimizer.step()\n",
    "\n",
    "        total_loss += loss.item()\n",
    "\n",
    "    return total_loss / len(dataloader)"
   ]
  },
  {
   "cell_type": "code",
   "execution_count": 10,
   "id": "e229476e",
   "metadata": {
    "execution": {
     "iopub.execute_input": "2024-03-29T12:52:46.757329Z",
     "iopub.status.busy": "2024-03-29T12:52:46.756865Z",
     "iopub.status.idle": "2024-03-29T12:52:46.762295Z",
     "shell.execute_reply": "2024-03-29T12:52:46.761489Z"
    },
    "papermill": {
     "duration": 0.023807,
     "end_time": "2024-03-29T12:52:46.764147",
     "exception": false,
     "start_time": "2024-03-29T12:52:46.740340",
     "status": "completed"
    },
    "tags": []
   },
   "outputs": [],
   "source": [
    "def train(train_dataloader, encoder, decoder, n_epochs, learning_rate=0.001):\n",
    "    encoder_optimizer = torch.optim.Adam(encoder.parameters(), lr=learning_rate)\n",
    "    decoder_optimizer = torch.optim.Adam(decoder.parameters(), lr=learning_rate)\n",
    "    criterion = nn.NLLLoss()\n",
    "\n",
    "    for epoch in range(n_epochs):\n",
    "        loss = train_epoch(\n",
    "            train_dataloader,\n",
    "            encoder,\n",
    "            decoder,\n",
    "            encoder_optimizer,\n",
    "            decoder_optimizer,\n",
    "            criterion,\n",
    "        )\n",
    "        print(\"Epoch:\", epoch, \"loss:\", loss)"
   ]
  },
  {
   "cell_type": "code",
   "execution_count": 11,
   "id": "c4c2bd9a",
   "metadata": {
    "execution": {
     "iopub.execute_input": "2024-03-29T12:52:46.795446Z",
     "iopub.status.busy": "2024-03-29T12:52:46.795181Z",
     "iopub.status.idle": "2024-03-29T12:52:48.344415Z",
     "shell.execute_reply": "2024-03-29T12:52:48.343443Z"
    },
    "papermill": {
     "duration": 1.567422,
     "end_time": "2024-03-29T12:52:48.346740",
     "exception": false,
     "start_time": "2024-03-29T12:52:46.779318",
     "status": "completed"
    },
    "tags": []
   },
   "outputs": [
    {
     "name": "stderr",
     "output_type": "stream",
     "text": [
      "100%|██████████| 10000/10000 [00:01<00:00, 8725.63it/s]\n"
     ]
    }
   ],
   "source": [
    "hidden_size = 128\n",
    "batch_size = 64\n",
    "\n",
    "train_dataloader = get_dataloader(\n",
    "    train_df[:10000],\n",
    "    batch_size=batch_size,\n",
    "    input_vocab=english_vocab,\n",
    "    output_vocab=port_vocab,\n",
    ")\n",
    "\n",
    "encoder = EncoderRNN(len(english_vocab), hidden_size).to(device)\n",
    "decoder = DecoderRNN(hidden_size, len(port_vocab)).to(device)"
   ]
  },
  {
   "cell_type": "code",
   "execution_count": 12,
   "id": "fb069d2f",
   "metadata": {
    "execution": {
     "iopub.execute_input": "2024-03-29T12:52:48.381693Z",
     "iopub.status.busy": "2024-03-29T12:52:48.381375Z",
     "iopub.status.idle": "2024-03-29T12:54:15.956703Z",
     "shell.execute_reply": "2024-03-29T12:54:15.955624Z"
    },
    "papermill": {
     "duration": 87.595461,
     "end_time": "2024-03-29T12:54:15.958935",
     "exception": false,
     "start_time": "2024-03-29T12:52:48.363474",
     "status": "completed"
    },
    "tags": []
   },
   "outputs": [
    {
     "name": "stderr",
     "output_type": "stream",
     "text": [
      "100%|██████████| 157/157 [00:18<00:00,  8.66it/s]\n"
     ]
    },
    {
     "name": "stdout",
     "output_type": "stream",
     "text": [
      "Epoch: 0 loss: 0.9608244647265999\n"
     ]
    },
    {
     "name": "stderr",
     "output_type": "stream",
     "text": [
      "100%|██████████| 157/157 [00:16<00:00,  9.33it/s]\n"
     ]
    },
    {
     "name": "stdout",
     "output_type": "stream",
     "text": [
      "Epoch: 1 loss: 0.21218722299405723\n"
     ]
    },
    {
     "name": "stderr",
     "output_type": "stream",
     "text": [
      "100%|██████████| 157/157 [00:16<00:00,  9.32it/s]\n"
     ]
    },
    {
     "name": "stdout",
     "output_type": "stream",
     "text": [
      "Epoch: 2 loss: 0.19913442546774626\n"
     ]
    },
    {
     "name": "stderr",
     "output_type": "stream",
     "text": [
      "100%|██████████| 157/157 [00:16<00:00,  9.27it/s]\n"
     ]
    },
    {
     "name": "stdout",
     "output_type": "stream",
     "text": [
      "Epoch: 3 loss: 0.19054425522020668\n"
     ]
    },
    {
     "name": "stderr",
     "output_type": "stream",
     "text": [
      "100%|██████████| 157/157 [00:16<00:00,  9.28it/s]"
     ]
    },
    {
     "name": "stdout",
     "output_type": "stream",
     "text": [
      "Epoch: 4 loss: 0.1829584247557221\n"
     ]
    },
    {
     "name": "stderr",
     "output_type": "stream",
     "text": [
      "\n"
     ]
    }
   ],
   "source": [
    "train(train_dataloader, encoder, decoder, n_epochs=5)"
   ]
  },
  {
   "cell_type": "markdown",
   "id": "7085d2ea",
   "metadata": {
    "papermill": {
     "duration": 0.128319,
     "end_time": "2024-03-29T12:54:16.164701",
     "exception": false,
     "start_time": "2024-03-29T12:54:16.036382",
     "status": "completed"
    },
    "tags": []
   },
   "source": [
    "## Competition\n",
    "\n",
    "[Competition](https://www.kaggle.com/t/ed002b89d14d4fee9d3903e85d4b0145)\n",
    "\n",
    "> Goal of competition is to translate sentences from English to Dutch with Encoder-Decoder RNN with attention mechanism\n"
   ]
  },
  {
   "cell_type": "code",
   "execution_count": null,
   "id": "c29a7bdf",
   "metadata": {
    "execution": {
     "iopub.execute_input": "2024-03-29T12:54:16.322091Z",
     "iopub.status.busy": "2024-03-29T12:54:16.321011Z",
     "iopub.status.idle": "2024-03-29T12:54:16.498502Z",
     "shell.execute_reply": "2024-03-29T12:54:16.497495Z"
    },
    "papermill": {
     "duration": 0.257654,
     "end_time": "2024-03-29T12:54:16.500717",
     "exception": false,
     "start_time": "2024-03-29T12:54:16.243063",
     "status": "completed"
    },
    "tags": []
   },
   "outputs": [
    {
     "data": {
      "text/html": [
       "<div>\n",
       "<style scoped>\n",
       "    .dataframe tbody tr th:only-of-type {\n",
       "        vertical-align: middle;\n",
       "    }\n",
       "\n",
       "    .dataframe tbody tr th {\n",
       "        vertical-align: top;\n",
       "    }\n",
       "\n",
       "    .dataframe thead th {\n",
       "        text-align: right;\n",
       "    }\n",
       "</style>\n",
       "<table border=\"1\" class=\"dataframe\">\n",
       "  <thead>\n",
       "    <tr style=\"text-align: right;\">\n",
       "      <th></th>\n",
       "      <th>id</th>\n",
       "      <th>EN</th>\n",
       "      <th>NL</th>\n",
       "    </tr>\n",
       "  </thead>\n",
       "  <tbody>\n",
       "    <tr>\n",
       "      <th>0</th>\n",
       "      <td>0</td>\n",
       "      <td>I couldn't understand his joke.</td>\n",
       "      <td>Ik begreep zijn grap niet.</td>\n",
       "    </tr>\n",
       "    <tr>\n",
       "      <th>1</th>\n",
       "      <td>1</td>\n",
       "      <td>There was nothing Tom could do about it.</td>\n",
       "      <td>Er was niets dat Tom eraan kon doen.</td>\n",
       "    </tr>\n",
       "    <tr>\n",
       "      <th>2</th>\n",
       "      <td>2</td>\n",
       "      <td>He has a hat on.</td>\n",
       "      <td>Hij draagt een hoed.</td>\n",
       "    </tr>\n",
       "    <tr>\n",
       "      <th>3</th>\n",
       "      <td>3</td>\n",
       "      <td>Does that happen every time?</td>\n",
       "      <td>Gebeurt dat elke keer?</td>\n",
       "    </tr>\n",
       "    <tr>\n",
       "      <th>4</th>\n",
       "      <td>4</td>\n",
       "      <td>Please don't run in the classroom.</td>\n",
       "      <td>Alsjeblieft niet rennen in het klaslokaal.</td>\n",
       "    </tr>\n",
       "  </tbody>\n",
       "</table>\n",
       "</div>"
      ],
      "text/plain": [
       "   id                                        EN  \\\n",
       "0   0           I couldn't understand his joke.   \n",
       "1   1  There was nothing Tom could do about it.   \n",
       "2   2                          He has a hat on.   \n",
       "3   3              Does that happen every time?   \n",
       "4   4        Please don't run in the classroom.   \n",
       "\n",
       "                                           NL  \n",
       "0                  Ik begreep zijn grap niet.  \n",
       "1        Er was niets dat Tom eraan kon doen.  \n",
       "2                        Hij draagt een hoed.  \n",
       "3                      Gebeurt dat elke keer?  \n",
       "4  Alsjeblieft niet rennen in het klaslokaal.  "
      ]
     },
     "execution_count": 13,
     "metadata": {},
     "output_type": "execute_result"
    }
   ],
   "source": [
    "import pandas as pd\n",
    "\n",
    "train_df = pd.read_csv(\"/kaggle/input/nlp-week-11-translation/train.csv\")\n",
    "train_df.head()"
   ]
  }
 ],
 "metadata": {
  "kaggle": {
   "accelerator": "gpu",
   "dataSources": [
    {
     "databundleVersionId": 8077727,
     "sourceId": 73327,
     "sourceType": "competition"
    },
    {
     "datasetId": 1074315,
     "sourceId": 1808362,
     "sourceType": "datasetVersion"
    }
   ],
   "dockerImageVersionId": 30673,
   "isGpuEnabled": true,
   "isInternetEnabled": true,
   "language": "python",
   "sourceType": "notebook"
  },
  "kernelspec": {
   "display_name": "Python 3",
   "language": "python",
   "name": "python3"
  },
  "language_info": {
   "codemirror_mode": {
    "name": "ipython",
    "version": 3
   },
   "file_extension": ".py",
   "mimetype": "text/x-python",
   "name": "python",
   "nbconvert_exporter": "python",
   "pygments_lexer": "ipython3",
   "version": "3.10.13"
  },
  "papermill": {
   "default_parameters": {},
   "duration": 2110.49259,
   "end_time": "2024-03-29T13:27:37.876584",
   "environment_variables": {},
   "exception": null,
   "input_path": "__notebook__.ipynb",
   "output_path": "__notebook__.ipynb",
   "parameters": {},
   "start_time": "2024-03-29T12:52:27.383994",
   "version": "2.5.0"
  }
 },
 "nbformat": 4,
 "nbformat_minor": 5
}
